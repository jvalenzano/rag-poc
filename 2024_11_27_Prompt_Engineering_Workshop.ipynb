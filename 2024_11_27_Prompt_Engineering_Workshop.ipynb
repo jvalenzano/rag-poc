{
  "nbformat": 4,
  "nbformat_minor": 0,
  "metadata": {
    "colab": {
      "provenance": [],
      "authorship_tag": "ABX9TyNhEtS9ocsMMzf4/W5ysHoV",
      "include_colab_link": true
    },
    "kernelspec": {
      "name": "python3",
      "display_name": "Python 3"
    },
    "language_info": {
      "name": "python"
    }
  },
  "cells": [
    {
      "cell_type": "markdown",
      "metadata": {
        "id": "view-in-github",
        "colab_type": "text"
      },
      "source": [
        "<a href=\"https://colab.research.google.com/github/jvalenzano/rag-poc/blob/main/2024_11_27_Prompt_Engineering_Workshop.ipynb\" target=\"_parent\"><img src=\"https://colab.research.google.com/assets/colab-badge.svg\" alt=\"Open In Colab\"/></a>"
      ]
    },
    {
      "cell_type": "code",
      "execution_count": null,
      "metadata": {
        "colab": {
          "base_uri": "https://localhost:8080/"
        },
        "id": "hGxjdzeV2LAC",
        "outputId": "4bf313d4-4452-460e-cbe9-7e71dbde6610"
      },
      "outputs": [
        {
          "output_type": "stream",
          "name": "stdout",
          "text": [
            "Using device: <tensorflow.python.eager.context._EagerDeviceContext object at 0x7f9cd1a028c0>\n"
          ]
        }
      ],
      "source": [
        "import tensorflow as tf\n",
        "print(\"Using device:\", tf.device('/CPU:0'))\n"
      ]
    },
    {
      "cell_type": "markdown",
      "source": [
        "# Finding and Setting Your Project ID 🔍\n",
        "\n",
        "## Step 1: Find Your ID\n",
        "1. Go to [Google Cloud Console](https://console.cloud.google.com/)\n",
        "2. At the top of the page, click on the project dropdown\n",
        "3. Your project ID will be listed under each project name\n",
        "   * It looks like: \"my-project-123456\" or similar\n",
        "   * This is NOT the project name\n",
        "   * Copy this ID exactly as shown\n",
        "\n",
        "## Step 2: Use Your ID in the Code ⚠️\n",
        "In your notebook, find this line in the setup cell:"
      ],
      "metadata": {
        "id": "ZmVeZgqc6KR4"
      }
    },
    {
      "cell_type": "code",
      "source": [
        "# Step 1: Import required module\n",
        "import os  # This line is REQUIRED! It gives us access to environment variables\n",
        "\n",
        "# Step 2: Set up your project ID\n",
        "# IMPORTANT: Replace \"your-project-id\" with your actual project ID\n",
        "# Example: If your project ID is \"student-ai-project-123\", it should look like:\n",
        "# PROJECT_ID = \"student-ai-project-123\"\n",
        "\n",
        "PROJECT_ID = \"gmail-smtp-403400\"  # 👈 Replace with YOUR project ID!\n",
        "\n",
        "# Step 3: Set the environment variable\n",
        "os.environ[\"GOOGLE_CLOUD_PROJECT\"] = PROJECT_ID  # This tells Google Cloud which project to use\n",
        "\n",
        "# Step 4: Verify your project ID is set correctly\n",
        "print(f\"✅ Project ID set to: {os.getenv('GOOGLE_CLOUD_PROJECT')}\")"
      ],
      "metadata": {
        "colab": {
          "base_uri": "https://localhost:8080/"
        },
        "id": "LVx-fysI8SJT",
        "outputId": "767ca492-1abe-4f91-f46f-4b35e5e204e8"
      },
      "execution_count": null,
      "outputs": [
        {
          "output_type": "stream",
          "name": "stdout",
          "text": [
            "✅ Project ID set to: gmail-smtp-403400\n"
          ]
        }
      ]
    },
    {
      "cell_type": "markdown",
      "source": [
        "## Common Errors to Watch For! 🚨\n",
        "\n",
        "1. `NameError: name 'os' is not defined`\n",
        "   - This means you forgot `import os` at the top\n",
        "   - Always include your imports first!\n",
        "\n",
        "2. Using the default \"your-project-id\"\n",
        "   - Make sure to replace it with your actual project ID\n",
        "   - Your project ID should look similar to: \"something-name-123456\"\n",
        "\n",
        "💡 TIP: Colab's \"Explain error\" button is super helpful when you get stuck!"
      ],
      "metadata": {
        "id": "p0RRP94y984U"
      }
    },
    {
      "cell_type": "markdown",
      "source": [
        "# Next Step: Installing Required Libraries 📚\n",
        "\n",
        "Before we can use Google's AI tools, we need to install some special packages. Think of these as adding new tools to your toolbox!"
      ],
      "metadata": {
        "id": "32ZxgKIu-aGa"
      }
    },
    {
      "cell_type": "code",
      "source": [
        "# Step 1: Install required packages\n",
        "!pip install google-cloud-aiplatform  # For using Google's AI services\n",
        "!pip install vertexai  # For working with advanced AI models\n",
        "\n",
        "print(\"✅ Packages installed!\")"
      ],
      "metadata": {
        "colab": {
          "base_uri": "https://localhost:8080/"
        },
        "id": "JBiXQVd5-m4t",
        "outputId": "ef2dd299-adab-453a-d601-16f1b5de1cd8"
      },
      "execution_count": null,
      "outputs": [
        {
          "output_type": "stream",
          "name": "stdout",
          "text": [
            "Requirement already satisfied: google-cloud-aiplatform in /usr/local/lib/python3.10/dist-packages (1.71.1)\n",
            "Requirement already satisfied: google-api-core!=2.0.*,!=2.1.*,!=2.2.*,!=2.3.*,!=2.4.*,!=2.5.*,!=2.6.*,!=2.7.*,<3.0.0dev,>=1.34.1 in /usr/local/lib/python3.10/dist-packages (from google-api-core[grpc]!=2.0.*,!=2.1.*,!=2.2.*,!=2.3.*,!=2.4.*,!=2.5.*,!=2.6.*,!=2.7.*,<3.0.0dev,>=1.34.1->google-cloud-aiplatform) (2.19.2)\n",
            "Requirement already satisfied: google-auth<3.0.0dev,>=2.14.1 in /usr/local/lib/python3.10/dist-packages (from google-cloud-aiplatform) (2.27.0)\n",
            "Requirement already satisfied: proto-plus<2.0.0dev,>=1.22.3 in /usr/local/lib/python3.10/dist-packages (from google-cloud-aiplatform) (1.25.0)\n",
            "Requirement already satisfied: protobuf!=4.21.0,!=4.21.1,!=4.21.2,!=4.21.3,!=4.21.4,!=4.21.5,<6.0.0dev,>=3.20.2 in /usr/local/lib/python3.10/dist-packages (from google-cloud-aiplatform) (4.25.5)\n",
            "Requirement already satisfied: packaging>=14.3 in /usr/local/lib/python3.10/dist-packages (from google-cloud-aiplatform) (24.2)\n",
            "Requirement already satisfied: google-cloud-storage<3.0.0dev,>=1.32.0 in /usr/local/lib/python3.10/dist-packages (from google-cloud-aiplatform) (2.8.0)\n",
            "Requirement already satisfied: google-cloud-bigquery!=3.20.0,<4.0.0dev,>=1.15.0 in /usr/local/lib/python3.10/dist-packages (from google-cloud-aiplatform) (3.25.0)\n",
            "Requirement already satisfied: google-cloud-resource-manager<3.0.0dev,>=1.3.3 in /usr/local/lib/python3.10/dist-packages (from google-cloud-aiplatform) (1.13.1)\n",
            "Requirement already satisfied: shapely<3.0.0dev in /usr/local/lib/python3.10/dist-packages (from google-cloud-aiplatform) (2.0.6)\n",
            "Requirement already satisfied: pydantic<3 in /usr/local/lib/python3.10/dist-packages (from google-cloud-aiplatform) (2.9.2)\n",
            "Requirement already satisfied: docstring-parser<1 in /usr/local/lib/python3.10/dist-packages (from google-cloud-aiplatform) (0.16)\n",
            "Requirement already satisfied: googleapis-common-protos<2.0.dev0,>=1.56.2 in /usr/local/lib/python3.10/dist-packages (from google-api-core!=2.0.*,!=2.1.*,!=2.2.*,!=2.3.*,!=2.4.*,!=2.5.*,!=2.6.*,!=2.7.*,<3.0.0dev,>=1.34.1->google-api-core[grpc]!=2.0.*,!=2.1.*,!=2.2.*,!=2.3.*,!=2.4.*,!=2.5.*,!=2.6.*,!=2.7.*,<3.0.0dev,>=1.34.1->google-cloud-aiplatform) (1.66.0)\n",
            "Requirement already satisfied: requests<3.0.0.dev0,>=2.18.0 in /usr/local/lib/python3.10/dist-packages (from google-api-core!=2.0.*,!=2.1.*,!=2.2.*,!=2.3.*,!=2.4.*,!=2.5.*,!=2.6.*,!=2.7.*,<3.0.0dev,>=1.34.1->google-api-core[grpc]!=2.0.*,!=2.1.*,!=2.2.*,!=2.3.*,!=2.4.*,!=2.5.*,!=2.6.*,!=2.7.*,<3.0.0dev,>=1.34.1->google-cloud-aiplatform) (2.32.3)\n",
            "Requirement already satisfied: grpcio<2.0dev,>=1.33.2 in /usr/local/lib/python3.10/dist-packages (from google-api-core[grpc]!=2.0.*,!=2.1.*,!=2.2.*,!=2.3.*,!=2.4.*,!=2.5.*,!=2.6.*,!=2.7.*,<3.0.0dev,>=1.34.1->google-cloud-aiplatform) (1.68.0)\n",
            "Requirement already satisfied: grpcio-status<2.0.dev0,>=1.33.2 in /usr/local/lib/python3.10/dist-packages (from google-api-core[grpc]!=2.0.*,!=2.1.*,!=2.2.*,!=2.3.*,!=2.4.*,!=2.5.*,!=2.6.*,!=2.7.*,<3.0.0dev,>=1.34.1->google-cloud-aiplatform) (1.62.3)\n",
            "Requirement already satisfied: cachetools<6.0,>=2.0.0 in /usr/local/lib/python3.10/dist-packages (from google-auth<3.0.0dev,>=2.14.1->google-cloud-aiplatform) (5.5.0)\n",
            "Requirement already satisfied: pyasn1-modules>=0.2.1 in /usr/local/lib/python3.10/dist-packages (from google-auth<3.0.0dev,>=2.14.1->google-cloud-aiplatform) (0.4.1)\n",
            "Requirement already satisfied: rsa<5,>=3.1.4 in /usr/local/lib/python3.10/dist-packages (from google-auth<3.0.0dev,>=2.14.1->google-cloud-aiplatform) (4.9)\n",
            "Requirement already satisfied: google-cloud-core<3.0.0dev,>=1.6.0 in /usr/local/lib/python3.10/dist-packages (from google-cloud-bigquery!=3.20.0,<4.0.0dev,>=1.15.0->google-cloud-aiplatform) (2.4.1)\n",
            "Requirement already satisfied: google-resumable-media<3.0dev,>=0.6.0 in /usr/local/lib/python3.10/dist-packages (from google-cloud-bigquery!=3.20.0,<4.0.0dev,>=1.15.0->google-cloud-aiplatform) (2.7.2)\n",
            "Requirement already satisfied: python-dateutil<3.0dev,>=2.7.2 in /usr/local/lib/python3.10/dist-packages (from google-cloud-bigquery!=3.20.0,<4.0.0dev,>=1.15.0->google-cloud-aiplatform) (2.8.2)\n",
            "Requirement already satisfied: grpc-google-iam-v1<1.0.0dev,>=0.12.4 in /usr/local/lib/python3.10/dist-packages (from google-cloud-resource-manager<3.0.0dev,>=1.3.3->google-cloud-aiplatform) (0.13.1)\n",
            "Requirement already satisfied: annotated-types>=0.6.0 in /usr/local/lib/python3.10/dist-packages (from pydantic<3->google-cloud-aiplatform) (0.7.0)\n",
            "Requirement already satisfied: pydantic-core==2.23.4 in /usr/local/lib/python3.10/dist-packages (from pydantic<3->google-cloud-aiplatform) (2.23.4)\n",
            "Requirement already satisfied: typing-extensions>=4.6.1 in /usr/local/lib/python3.10/dist-packages (from pydantic<3->google-cloud-aiplatform) (4.12.2)\n",
            "Requirement already satisfied: numpy<3,>=1.14 in /usr/local/lib/python3.10/dist-packages (from shapely<3.0.0dev->google-cloud-aiplatform) (1.26.4)\n",
            "Requirement already satisfied: google-crc32c<2.0dev,>=1.0 in /usr/local/lib/python3.10/dist-packages (from google-resumable-media<3.0dev,>=0.6.0->google-cloud-bigquery!=3.20.0,<4.0.0dev,>=1.15.0->google-cloud-aiplatform) (1.6.0)\n",
            "Requirement already satisfied: pyasn1<0.7.0,>=0.4.6 in /usr/local/lib/python3.10/dist-packages (from pyasn1-modules>=0.2.1->google-auth<3.0.0dev,>=2.14.1->google-cloud-aiplatform) (0.6.1)\n",
            "Requirement already satisfied: six>=1.5 in /usr/local/lib/python3.10/dist-packages (from python-dateutil<3.0dev,>=2.7.2->google-cloud-bigquery!=3.20.0,<4.0.0dev,>=1.15.0->google-cloud-aiplatform) (1.16.0)\n",
            "Requirement already satisfied: charset-normalizer<4,>=2 in /usr/local/lib/python3.10/dist-packages (from requests<3.0.0.dev0,>=2.18.0->google-api-core!=2.0.*,!=2.1.*,!=2.2.*,!=2.3.*,!=2.4.*,!=2.5.*,!=2.6.*,!=2.7.*,<3.0.0dev,>=1.34.1->google-api-core[grpc]!=2.0.*,!=2.1.*,!=2.2.*,!=2.3.*,!=2.4.*,!=2.5.*,!=2.6.*,!=2.7.*,<3.0.0dev,>=1.34.1->google-cloud-aiplatform) (3.4.0)\n",
            "Requirement already satisfied: idna<4,>=2.5 in /usr/local/lib/python3.10/dist-packages (from requests<3.0.0.dev0,>=2.18.0->google-api-core!=2.0.*,!=2.1.*,!=2.2.*,!=2.3.*,!=2.4.*,!=2.5.*,!=2.6.*,!=2.7.*,<3.0.0dev,>=1.34.1->google-api-core[grpc]!=2.0.*,!=2.1.*,!=2.2.*,!=2.3.*,!=2.4.*,!=2.5.*,!=2.6.*,!=2.7.*,<3.0.0dev,>=1.34.1->google-cloud-aiplatform) (3.10)\n",
            "Requirement already satisfied: urllib3<3,>=1.21.1 in /usr/local/lib/python3.10/dist-packages (from requests<3.0.0.dev0,>=2.18.0->google-api-core!=2.0.*,!=2.1.*,!=2.2.*,!=2.3.*,!=2.4.*,!=2.5.*,!=2.6.*,!=2.7.*,<3.0.0dev,>=1.34.1->google-api-core[grpc]!=2.0.*,!=2.1.*,!=2.2.*,!=2.3.*,!=2.4.*,!=2.5.*,!=2.6.*,!=2.7.*,<3.0.0dev,>=1.34.1->google-cloud-aiplatform) (2.2.3)\n",
            "Requirement already satisfied: certifi>=2017.4.17 in /usr/local/lib/python3.10/dist-packages (from requests<3.0.0.dev0,>=2.18.0->google-api-core!=2.0.*,!=2.1.*,!=2.2.*,!=2.3.*,!=2.4.*,!=2.5.*,!=2.6.*,!=2.7.*,<3.0.0dev,>=1.34.1->google-api-core[grpc]!=2.0.*,!=2.1.*,!=2.2.*,!=2.3.*,!=2.4.*,!=2.5.*,!=2.6.*,!=2.7.*,<3.0.0dev,>=1.34.1->google-cloud-aiplatform) (2024.8.30)\n",
            "Requirement already satisfied: vertexai in /usr/local/lib/python3.10/dist-packages (1.71.1)\n",
            "Requirement already satisfied: google-cloud-aiplatform==1.71.1 in /usr/local/lib/python3.10/dist-packages (from google-cloud-aiplatform[all]==1.71.1->vertexai) (1.71.1)\n",
            "Requirement already satisfied: google-api-core!=2.0.*,!=2.1.*,!=2.2.*,!=2.3.*,!=2.4.*,!=2.5.*,!=2.6.*,!=2.7.*,<3.0.0dev,>=1.34.1 in /usr/local/lib/python3.10/dist-packages (from google-api-core[grpc]!=2.0.*,!=2.1.*,!=2.2.*,!=2.3.*,!=2.4.*,!=2.5.*,!=2.6.*,!=2.7.*,<3.0.0dev,>=1.34.1->google-cloud-aiplatform==1.71.1->google-cloud-aiplatform[all]==1.71.1->vertexai) (2.19.2)\n",
            "Requirement already satisfied: google-auth<3.0.0dev,>=2.14.1 in /usr/local/lib/python3.10/dist-packages (from google-cloud-aiplatform==1.71.1->google-cloud-aiplatform[all]==1.71.1->vertexai) (2.27.0)\n",
            "Requirement already satisfied: proto-plus<2.0.0dev,>=1.22.3 in /usr/local/lib/python3.10/dist-packages (from google-cloud-aiplatform==1.71.1->google-cloud-aiplatform[all]==1.71.1->vertexai) (1.25.0)\n",
            "Requirement already satisfied: protobuf!=4.21.0,!=4.21.1,!=4.21.2,!=4.21.3,!=4.21.4,!=4.21.5,<6.0.0dev,>=3.20.2 in /usr/local/lib/python3.10/dist-packages (from google-cloud-aiplatform==1.71.1->google-cloud-aiplatform[all]==1.71.1->vertexai) (4.25.5)\n",
            "Requirement already satisfied: packaging>=14.3 in /usr/local/lib/python3.10/dist-packages (from google-cloud-aiplatform==1.71.1->google-cloud-aiplatform[all]==1.71.1->vertexai) (24.2)\n",
            "Requirement already satisfied: google-cloud-storage<3.0.0dev,>=1.32.0 in /usr/local/lib/python3.10/dist-packages (from google-cloud-aiplatform==1.71.1->google-cloud-aiplatform[all]==1.71.1->vertexai) (2.8.0)\n",
            "Requirement already satisfied: google-cloud-bigquery!=3.20.0,<4.0.0dev,>=1.15.0 in /usr/local/lib/python3.10/dist-packages (from google-cloud-aiplatform==1.71.1->google-cloud-aiplatform[all]==1.71.1->vertexai) (3.25.0)\n",
            "Requirement already satisfied: google-cloud-resource-manager<3.0.0dev,>=1.3.3 in /usr/local/lib/python3.10/dist-packages (from google-cloud-aiplatform==1.71.1->google-cloud-aiplatform[all]==1.71.1->vertexai) (1.13.1)\n",
            "Requirement already satisfied: shapely<3.0.0dev in /usr/local/lib/python3.10/dist-packages (from google-cloud-aiplatform==1.71.1->google-cloud-aiplatform[all]==1.71.1->vertexai) (2.0.6)\n",
            "Requirement already satisfied: pydantic<3 in /usr/local/lib/python3.10/dist-packages (from google-cloud-aiplatform==1.71.1->google-cloud-aiplatform[all]==1.71.1->vertexai) (2.9.2)\n",
            "Requirement already satisfied: docstring-parser<1 in /usr/local/lib/python3.10/dist-packages (from google-cloud-aiplatform==1.71.1->google-cloud-aiplatform[all]==1.71.1->vertexai) (0.16)\n",
            "\u001b[33mWARNING: google-cloud-aiplatform 1.71.1 does not provide the extra 'all'\u001b[0m\u001b[33m\n",
            "\u001b[0mRequirement already satisfied: googleapis-common-protos<2.0.dev0,>=1.56.2 in /usr/local/lib/python3.10/dist-packages (from google-api-core!=2.0.*,!=2.1.*,!=2.2.*,!=2.3.*,!=2.4.*,!=2.5.*,!=2.6.*,!=2.7.*,<3.0.0dev,>=1.34.1->google-api-core[grpc]!=2.0.*,!=2.1.*,!=2.2.*,!=2.3.*,!=2.4.*,!=2.5.*,!=2.6.*,!=2.7.*,<3.0.0dev,>=1.34.1->google-cloud-aiplatform==1.71.1->google-cloud-aiplatform[all]==1.71.1->vertexai) (1.66.0)\n",
            "Requirement already satisfied: requests<3.0.0.dev0,>=2.18.0 in /usr/local/lib/python3.10/dist-packages (from google-api-core!=2.0.*,!=2.1.*,!=2.2.*,!=2.3.*,!=2.4.*,!=2.5.*,!=2.6.*,!=2.7.*,<3.0.0dev,>=1.34.1->google-api-core[grpc]!=2.0.*,!=2.1.*,!=2.2.*,!=2.3.*,!=2.4.*,!=2.5.*,!=2.6.*,!=2.7.*,<3.0.0dev,>=1.34.1->google-cloud-aiplatform==1.71.1->google-cloud-aiplatform[all]==1.71.1->vertexai) (2.32.3)\n",
            "Requirement already satisfied: grpcio<2.0dev,>=1.33.2 in /usr/local/lib/python3.10/dist-packages (from google-api-core[grpc]!=2.0.*,!=2.1.*,!=2.2.*,!=2.3.*,!=2.4.*,!=2.5.*,!=2.6.*,!=2.7.*,<3.0.0dev,>=1.34.1->google-cloud-aiplatform==1.71.1->google-cloud-aiplatform[all]==1.71.1->vertexai) (1.68.0)\n",
            "Requirement already satisfied: grpcio-status<2.0.dev0,>=1.33.2 in /usr/local/lib/python3.10/dist-packages (from google-api-core[grpc]!=2.0.*,!=2.1.*,!=2.2.*,!=2.3.*,!=2.4.*,!=2.5.*,!=2.6.*,!=2.7.*,<3.0.0dev,>=1.34.1->google-cloud-aiplatform==1.71.1->google-cloud-aiplatform[all]==1.71.1->vertexai) (1.62.3)\n",
            "Requirement already satisfied: cachetools<6.0,>=2.0.0 in /usr/local/lib/python3.10/dist-packages (from google-auth<3.0.0dev,>=2.14.1->google-cloud-aiplatform==1.71.1->google-cloud-aiplatform[all]==1.71.1->vertexai) (5.5.0)\n",
            "Requirement already satisfied: pyasn1-modules>=0.2.1 in /usr/local/lib/python3.10/dist-packages (from google-auth<3.0.0dev,>=2.14.1->google-cloud-aiplatform==1.71.1->google-cloud-aiplatform[all]==1.71.1->vertexai) (0.4.1)\n",
            "Requirement already satisfied: rsa<5,>=3.1.4 in /usr/local/lib/python3.10/dist-packages (from google-auth<3.0.0dev,>=2.14.1->google-cloud-aiplatform==1.71.1->google-cloud-aiplatform[all]==1.71.1->vertexai) (4.9)\n",
            "Requirement already satisfied: google-cloud-core<3.0.0dev,>=1.6.0 in /usr/local/lib/python3.10/dist-packages (from google-cloud-bigquery!=3.20.0,<4.0.0dev,>=1.15.0->google-cloud-aiplatform==1.71.1->google-cloud-aiplatform[all]==1.71.1->vertexai) (2.4.1)\n",
            "Requirement already satisfied: google-resumable-media<3.0dev,>=0.6.0 in /usr/local/lib/python3.10/dist-packages (from google-cloud-bigquery!=3.20.0,<4.0.0dev,>=1.15.0->google-cloud-aiplatform==1.71.1->google-cloud-aiplatform[all]==1.71.1->vertexai) (2.7.2)\n",
            "Requirement already satisfied: python-dateutil<3.0dev,>=2.7.2 in /usr/local/lib/python3.10/dist-packages (from google-cloud-bigquery!=3.20.0,<4.0.0dev,>=1.15.0->google-cloud-aiplatform==1.71.1->google-cloud-aiplatform[all]==1.71.1->vertexai) (2.8.2)\n",
            "Requirement already satisfied: grpc-google-iam-v1<1.0.0dev,>=0.12.4 in /usr/local/lib/python3.10/dist-packages (from google-cloud-resource-manager<3.0.0dev,>=1.3.3->google-cloud-aiplatform==1.71.1->google-cloud-aiplatform[all]==1.71.1->vertexai) (0.13.1)\n",
            "Requirement already satisfied: annotated-types>=0.6.0 in /usr/local/lib/python3.10/dist-packages (from pydantic<3->google-cloud-aiplatform==1.71.1->google-cloud-aiplatform[all]==1.71.1->vertexai) (0.7.0)\n",
            "Requirement already satisfied: pydantic-core==2.23.4 in /usr/local/lib/python3.10/dist-packages (from pydantic<3->google-cloud-aiplatform==1.71.1->google-cloud-aiplatform[all]==1.71.1->vertexai) (2.23.4)\n",
            "Requirement already satisfied: typing-extensions>=4.6.1 in /usr/local/lib/python3.10/dist-packages (from pydantic<3->google-cloud-aiplatform==1.71.1->google-cloud-aiplatform[all]==1.71.1->vertexai) (4.12.2)\n",
            "Requirement already satisfied: numpy<3,>=1.14 in /usr/local/lib/python3.10/dist-packages (from shapely<3.0.0dev->google-cloud-aiplatform==1.71.1->google-cloud-aiplatform[all]==1.71.1->vertexai) (1.26.4)\n",
            "Requirement already satisfied: google-crc32c<2.0dev,>=1.0 in /usr/local/lib/python3.10/dist-packages (from google-resumable-media<3.0dev,>=0.6.0->google-cloud-bigquery!=3.20.0,<4.0.0dev,>=1.15.0->google-cloud-aiplatform==1.71.1->google-cloud-aiplatform[all]==1.71.1->vertexai) (1.6.0)\n",
            "Requirement already satisfied: pyasn1<0.7.0,>=0.4.6 in /usr/local/lib/python3.10/dist-packages (from pyasn1-modules>=0.2.1->google-auth<3.0.0dev,>=2.14.1->google-cloud-aiplatform==1.71.1->google-cloud-aiplatform[all]==1.71.1->vertexai) (0.6.1)\n",
            "Requirement already satisfied: six>=1.5 in /usr/local/lib/python3.10/dist-packages (from python-dateutil<3.0dev,>=2.7.2->google-cloud-bigquery!=3.20.0,<4.0.0dev,>=1.15.0->google-cloud-aiplatform==1.71.1->google-cloud-aiplatform[all]==1.71.1->vertexai) (1.16.0)\n",
            "Requirement already satisfied: charset-normalizer<4,>=2 in /usr/local/lib/python3.10/dist-packages (from requests<3.0.0.dev0,>=2.18.0->google-api-core!=2.0.*,!=2.1.*,!=2.2.*,!=2.3.*,!=2.4.*,!=2.5.*,!=2.6.*,!=2.7.*,<3.0.0dev,>=1.34.1->google-api-core[grpc]!=2.0.*,!=2.1.*,!=2.2.*,!=2.3.*,!=2.4.*,!=2.5.*,!=2.6.*,!=2.7.*,<3.0.0dev,>=1.34.1->google-cloud-aiplatform==1.71.1->google-cloud-aiplatform[all]==1.71.1->vertexai) (3.4.0)\n",
            "Requirement already satisfied: idna<4,>=2.5 in /usr/local/lib/python3.10/dist-packages (from requests<3.0.0.dev0,>=2.18.0->google-api-core!=2.0.*,!=2.1.*,!=2.2.*,!=2.3.*,!=2.4.*,!=2.5.*,!=2.6.*,!=2.7.*,<3.0.0dev,>=1.34.1->google-api-core[grpc]!=2.0.*,!=2.1.*,!=2.2.*,!=2.3.*,!=2.4.*,!=2.5.*,!=2.6.*,!=2.7.*,<3.0.0dev,>=1.34.1->google-cloud-aiplatform==1.71.1->google-cloud-aiplatform[all]==1.71.1->vertexai) (3.10)\n",
            "Requirement already satisfied: urllib3<3,>=1.21.1 in /usr/local/lib/python3.10/dist-packages (from requests<3.0.0.dev0,>=2.18.0->google-api-core!=2.0.*,!=2.1.*,!=2.2.*,!=2.3.*,!=2.4.*,!=2.5.*,!=2.6.*,!=2.7.*,<3.0.0dev,>=1.34.1->google-api-core[grpc]!=2.0.*,!=2.1.*,!=2.2.*,!=2.3.*,!=2.4.*,!=2.5.*,!=2.6.*,!=2.7.*,<3.0.0dev,>=1.34.1->google-cloud-aiplatform==1.71.1->google-cloud-aiplatform[all]==1.71.1->vertexai) (2.2.3)\n",
            "Requirement already satisfied: certifi>=2017.4.17 in /usr/local/lib/python3.10/dist-packages (from requests<3.0.0.dev0,>=2.18.0->google-api-core!=2.0.*,!=2.1.*,!=2.2.*,!=2.3.*,!=2.4.*,!=2.5.*,!=2.6.*,!=2.7.*,<3.0.0dev,>=1.34.1->google-api-core[grpc]!=2.0.*,!=2.1.*,!=2.2.*,!=2.3.*,!=2.4.*,!=2.5.*,!=2.6.*,!=2.7.*,<3.0.0dev,>=1.34.1->google-cloud-aiplatform==1.71.1->google-cloud-aiplatform[all]==1.71.1->vertexai) (2024.8.30)\n",
            "✅ Packages installed!\n"
          ]
        }
      ]
    },
    {
      "cell_type": "markdown",
      "source": [
        "## Now Let's Check Our Setup! 🔍\n",
        "We'll run a quick test to make sure everything is working correctly:"
      ],
      "metadata": {
        "id": "ZcpNt3ed-qXy"
      }
    },
    {
      "cell_type": "code",
      "source": [
        "# Step 2: Import our newly installed packages\n",
        "import os  # We already have this from before\n",
        "from google.colab import auth\n",
        "import vertexai\n",
        "\n",
        "# Step 3: Run our setup checker\n",
        "def check_our_setup():\n",
        "    \"\"\"\n",
        "    A friendly function to make sure everything is ready to go!\n",
        "    \"\"\"\n",
        "    print(\"🔍 Checking your setup...\")\n",
        "\n",
        "    try:\n",
        "        # Check 1: Authenticate with Google\n",
        "        print(\"\\nStep 1: Authenticating...\")\n",
        "        auth.authenticate_user()\n",
        "        print(\"✅ Authentication successful!\")\n",
        "\n",
        "        # Check 2: Initialize Vertex AI\n",
        "        print(\"\\nStep 2: Connecting to AI services...\")\n",
        "        vertexai.init(project=os.getenv(\"GOOGLE_CLOUD_PROJECT\"),\n",
        "                     location=\"us-central1\")\n",
        "        print(\"✅ Connected to Vertex AI!\")\n",
        "\n",
        "        print(\"\\n🎉 You're all set! Ready to start playing with AI!\")\n",
        "\n",
        "    except Exception as e:\n",
        "        print(f\"\\n❌ Oops! Something went wrong: {str(e)}\")\n",
        "        print(\"\\n💡 Try these fixes:\")\n",
        "        print(\"1. Make sure you ran the project ID setup cell from before\")\n",
        "        print(\"2. Check that the packages installed correctly\")\n",
        "        print(\"3. Click 'Runtime' -> 'Restart runtime' and try again\")\n",
        "\n",
        "# Run our checker\n",
        "check_our_setup()"
      ],
      "metadata": {
        "colab": {
          "base_uri": "https://localhost:8080/"
        },
        "id": "GA5SqC7z-vdP",
        "outputId": "ec329ade-9c44-41c5-ef97-d403c7e2ba9c"
      },
      "execution_count": null,
      "outputs": [
        {
          "output_type": "stream",
          "name": "stdout",
          "text": [
            "🔍 Checking your setup...\n",
            "\n",
            "Step 1: Authenticating...\n",
            "✅ Authentication successful!\n",
            "\n",
            "Step 2: Connecting to AI services...\n",
            "✅ Connected to Vertex AI!\n",
            "\n",
            "🎉 You're all set! Ready to start playing with AI!\n"
          ]
        }
      ]
    },
    {
      "cell_type": "markdown",
      "source": [
        "## What's Happening Here? 🤔\n",
        "\n",
        "1. First, we install the tools we need with `pip install`\n",
        "2. Then we import these tools so we can use them\n",
        "3. Finally, we run a checker to make sure everything is working\n",
        "\n",
        "When you run this:\n",
        "- You might see a pop-up asking to authorize Google Cloud\n",
        "- Click \"Allow\" or \"Authorize\" if you see these prompts\n",
        "- Wait for all the checks to complete\n",
        "\n",
        "## Common Questions 💭\n",
        "\n",
        "1. Why do we need these packages?\n",
        "   - They give us the power to talk to Google's AI services\n",
        "   - Think of them as translators between your code and the AI\n",
        "\n",
        "2. What if I see errors?\n",
        "   - Don't worry! Most errors are easy to fix\n",
        "   - Read the error message carefully\n",
        "   - Use the \"Explain error\" button if needed"
      ],
      "metadata": {
        "id": "m8ed1LaQ-ymK"
      }
    },
    {
      "cell_type": "markdown",
      "source": [
        "# Fun with AI Prompts: The Mad-Libs Game 🎮\n",
        "\n",
        "In this lesson, we'll learn how to create dynamic AI prompts using a fun mad-libs style approach! This is a great way to understand how AI models can generate different responses based on variable inputs.\n",
        "\n",
        "## What We're Building 🛠️\n",
        "- A prompt template system that takes different animals and activities\n",
        "- A way to ask our AI model if certain animals can do certain activities\n",
        "- A fun way to learn about both animal behaviors and AI prompting!\n",
        "\n",
        "## The Code Explained 🔍\n",
        "Let's break this down step by step. Each part has a specific job:"
      ],
      "metadata": {
        "id": "4rSgh8wo39dQ"
      }
    },
    {
      "cell_type": "markdown",
      "source": [
        "# AI Mad-Libs Game: A Fun Way to Learn About Animals! 🦒\n",
        "\n",
        "## Part 1: Setup 🛠️"
      ],
      "metadata": {
        "id": "gHztNcP2BeDd"
      }
    },
    {
      "cell_type": "code",
      "source": [
        "# Essential imports\n",
        "import os\n",
        "from google.colab import auth\n",
        "import vertexai\n",
        "from vertexai.preview.prompts import Prompt\n",
        "\n",
        "# Set your project ID\n",
        "PROJECT_ID = \"gmail-smtp-403400\"  # Your project ID here\n",
        "os.environ[\"GOOGLE_CLOUD_PROJECT\"] = PROJECT_ID\n",
        "\n",
        "# Install required packages\n",
        "!pip install google-cloud-aiplatform\n",
        "!pip install vertexai\n",
        "\n",
        "# Initialize Vertex AI\n",
        "auth.authenticate_user()\n",
        "vertexai.init(project=PROJECT_ID, location=\"us-central1\")\n",
        "print(\"✅ Setup complete! Let's play with AI!\")"
      ],
      "metadata": {
        "colab": {
          "base_uri": "https://localhost:8080/"
        },
        "id": "GGHSQiIQCvXi",
        "outputId": "b1c1c8c8-0658-4d0c-bf8f-2488436a14b5"
      },
      "execution_count": null,
      "outputs": [
        {
          "output_type": "stream",
          "name": "stdout",
          "text": [
            "Requirement already satisfied: google-cloud-aiplatform in /usr/local/lib/python3.10/dist-packages (1.71.1)\n",
            "Requirement already satisfied: google-api-core!=2.0.*,!=2.1.*,!=2.2.*,!=2.3.*,!=2.4.*,!=2.5.*,!=2.6.*,!=2.7.*,<3.0.0dev,>=1.34.1 in /usr/local/lib/python3.10/dist-packages (from google-api-core[grpc]!=2.0.*,!=2.1.*,!=2.2.*,!=2.3.*,!=2.4.*,!=2.5.*,!=2.6.*,!=2.7.*,<3.0.0dev,>=1.34.1->google-cloud-aiplatform) (2.19.2)\n",
            "Requirement already satisfied: google-auth<3.0.0dev,>=2.14.1 in /usr/local/lib/python3.10/dist-packages (from google-cloud-aiplatform) (2.27.0)\n",
            "Requirement already satisfied: proto-plus<2.0.0dev,>=1.22.3 in /usr/local/lib/python3.10/dist-packages (from google-cloud-aiplatform) (1.25.0)\n",
            "Requirement already satisfied: protobuf!=4.21.0,!=4.21.1,!=4.21.2,!=4.21.3,!=4.21.4,!=4.21.5,<6.0.0dev,>=3.20.2 in /usr/local/lib/python3.10/dist-packages (from google-cloud-aiplatform) (4.25.5)\n",
            "Requirement already satisfied: packaging>=14.3 in /usr/local/lib/python3.10/dist-packages (from google-cloud-aiplatform) (24.2)\n",
            "Requirement already satisfied: google-cloud-storage<3.0.0dev,>=1.32.0 in /usr/local/lib/python3.10/dist-packages (from google-cloud-aiplatform) (2.8.0)\n",
            "Requirement already satisfied: google-cloud-bigquery!=3.20.0,<4.0.0dev,>=1.15.0 in /usr/local/lib/python3.10/dist-packages (from google-cloud-aiplatform) (3.25.0)\n",
            "Requirement already satisfied: google-cloud-resource-manager<3.0.0dev,>=1.3.3 in /usr/local/lib/python3.10/dist-packages (from google-cloud-aiplatform) (1.13.1)\n",
            "Requirement already satisfied: shapely<3.0.0dev in /usr/local/lib/python3.10/dist-packages (from google-cloud-aiplatform) (2.0.6)\n",
            "Requirement already satisfied: pydantic<3 in /usr/local/lib/python3.10/dist-packages (from google-cloud-aiplatform) (2.9.2)\n",
            "Requirement already satisfied: docstring-parser<1 in /usr/local/lib/python3.10/dist-packages (from google-cloud-aiplatform) (0.16)\n",
            "Requirement already satisfied: googleapis-common-protos<2.0.dev0,>=1.56.2 in /usr/local/lib/python3.10/dist-packages (from google-api-core!=2.0.*,!=2.1.*,!=2.2.*,!=2.3.*,!=2.4.*,!=2.5.*,!=2.6.*,!=2.7.*,<3.0.0dev,>=1.34.1->google-api-core[grpc]!=2.0.*,!=2.1.*,!=2.2.*,!=2.3.*,!=2.4.*,!=2.5.*,!=2.6.*,!=2.7.*,<3.0.0dev,>=1.34.1->google-cloud-aiplatform) (1.66.0)\n",
            "Requirement already satisfied: requests<3.0.0.dev0,>=2.18.0 in /usr/local/lib/python3.10/dist-packages (from google-api-core!=2.0.*,!=2.1.*,!=2.2.*,!=2.3.*,!=2.4.*,!=2.5.*,!=2.6.*,!=2.7.*,<3.0.0dev,>=1.34.1->google-api-core[grpc]!=2.0.*,!=2.1.*,!=2.2.*,!=2.3.*,!=2.4.*,!=2.5.*,!=2.6.*,!=2.7.*,<3.0.0dev,>=1.34.1->google-cloud-aiplatform) (2.32.3)\n",
            "Requirement already satisfied: grpcio<2.0dev,>=1.33.2 in /usr/local/lib/python3.10/dist-packages (from google-api-core[grpc]!=2.0.*,!=2.1.*,!=2.2.*,!=2.3.*,!=2.4.*,!=2.5.*,!=2.6.*,!=2.7.*,<3.0.0dev,>=1.34.1->google-cloud-aiplatform) (1.68.0)\n",
            "Requirement already satisfied: grpcio-status<2.0.dev0,>=1.33.2 in /usr/local/lib/python3.10/dist-packages (from google-api-core[grpc]!=2.0.*,!=2.1.*,!=2.2.*,!=2.3.*,!=2.4.*,!=2.5.*,!=2.6.*,!=2.7.*,<3.0.0dev,>=1.34.1->google-cloud-aiplatform) (1.62.3)\n",
            "Requirement already satisfied: cachetools<6.0,>=2.0.0 in /usr/local/lib/python3.10/dist-packages (from google-auth<3.0.0dev,>=2.14.1->google-cloud-aiplatform) (5.5.0)\n",
            "Requirement already satisfied: pyasn1-modules>=0.2.1 in /usr/local/lib/python3.10/dist-packages (from google-auth<3.0.0dev,>=2.14.1->google-cloud-aiplatform) (0.4.1)\n",
            "Requirement already satisfied: rsa<5,>=3.1.4 in /usr/local/lib/python3.10/dist-packages (from google-auth<3.0.0dev,>=2.14.1->google-cloud-aiplatform) (4.9)\n",
            "Requirement already satisfied: google-cloud-core<3.0.0dev,>=1.6.0 in /usr/local/lib/python3.10/dist-packages (from google-cloud-bigquery!=3.20.0,<4.0.0dev,>=1.15.0->google-cloud-aiplatform) (2.4.1)\n",
            "Requirement already satisfied: google-resumable-media<3.0dev,>=0.6.0 in /usr/local/lib/python3.10/dist-packages (from google-cloud-bigquery!=3.20.0,<4.0.0dev,>=1.15.0->google-cloud-aiplatform) (2.7.2)\n",
            "Requirement already satisfied: python-dateutil<3.0dev,>=2.7.2 in /usr/local/lib/python3.10/dist-packages (from google-cloud-bigquery!=3.20.0,<4.0.0dev,>=1.15.0->google-cloud-aiplatform) (2.8.2)\n",
            "Requirement already satisfied: grpc-google-iam-v1<1.0.0dev,>=0.12.4 in /usr/local/lib/python3.10/dist-packages (from google-cloud-resource-manager<3.0.0dev,>=1.3.3->google-cloud-aiplatform) (0.13.1)\n",
            "Requirement already satisfied: annotated-types>=0.6.0 in /usr/local/lib/python3.10/dist-packages (from pydantic<3->google-cloud-aiplatform) (0.7.0)\n",
            "Requirement already satisfied: pydantic-core==2.23.4 in /usr/local/lib/python3.10/dist-packages (from pydantic<3->google-cloud-aiplatform) (2.23.4)\n",
            "Requirement already satisfied: typing-extensions>=4.6.1 in /usr/local/lib/python3.10/dist-packages (from pydantic<3->google-cloud-aiplatform) (4.12.2)\n",
            "Requirement already satisfied: numpy<3,>=1.14 in /usr/local/lib/python3.10/dist-packages (from shapely<3.0.0dev->google-cloud-aiplatform) (1.26.4)\n",
            "Requirement already satisfied: google-crc32c<2.0dev,>=1.0 in /usr/local/lib/python3.10/dist-packages (from google-resumable-media<3.0dev,>=0.6.0->google-cloud-bigquery!=3.20.0,<4.0.0dev,>=1.15.0->google-cloud-aiplatform) (1.6.0)\n",
            "Requirement already satisfied: pyasn1<0.7.0,>=0.4.6 in /usr/local/lib/python3.10/dist-packages (from pyasn1-modules>=0.2.1->google-auth<3.0.0dev,>=2.14.1->google-cloud-aiplatform) (0.6.1)\n",
            "Requirement already satisfied: six>=1.5 in /usr/local/lib/python3.10/dist-packages (from python-dateutil<3.0dev,>=2.7.2->google-cloud-bigquery!=3.20.0,<4.0.0dev,>=1.15.0->google-cloud-aiplatform) (1.16.0)\n",
            "Requirement already satisfied: charset-normalizer<4,>=2 in /usr/local/lib/python3.10/dist-packages (from requests<3.0.0.dev0,>=2.18.0->google-api-core!=2.0.*,!=2.1.*,!=2.2.*,!=2.3.*,!=2.4.*,!=2.5.*,!=2.6.*,!=2.7.*,<3.0.0dev,>=1.34.1->google-api-core[grpc]!=2.0.*,!=2.1.*,!=2.2.*,!=2.3.*,!=2.4.*,!=2.5.*,!=2.6.*,!=2.7.*,<3.0.0dev,>=1.34.1->google-cloud-aiplatform) (3.4.0)\n",
            "Requirement already satisfied: idna<4,>=2.5 in /usr/local/lib/python3.10/dist-packages (from requests<3.0.0.dev0,>=2.18.0->google-api-core!=2.0.*,!=2.1.*,!=2.2.*,!=2.3.*,!=2.4.*,!=2.5.*,!=2.6.*,!=2.7.*,<3.0.0dev,>=1.34.1->google-api-core[grpc]!=2.0.*,!=2.1.*,!=2.2.*,!=2.3.*,!=2.4.*,!=2.5.*,!=2.6.*,!=2.7.*,<3.0.0dev,>=1.34.1->google-cloud-aiplatform) (3.10)\n",
            "Requirement already satisfied: urllib3<3,>=1.21.1 in /usr/local/lib/python3.10/dist-packages (from requests<3.0.0.dev0,>=2.18.0->google-api-core!=2.0.*,!=2.1.*,!=2.2.*,!=2.3.*,!=2.4.*,!=2.5.*,!=2.6.*,!=2.7.*,<3.0.0dev,>=1.34.1->google-api-core[grpc]!=2.0.*,!=2.1.*,!=2.2.*,!=2.3.*,!=2.4.*,!=2.5.*,!=2.6.*,!=2.7.*,<3.0.0dev,>=1.34.1->google-cloud-aiplatform) (2.2.3)\n",
            "Requirement already satisfied: certifi>=2017.4.17 in /usr/local/lib/python3.10/dist-packages (from requests<3.0.0.dev0,>=2.18.0->google-api-core!=2.0.*,!=2.1.*,!=2.2.*,!=2.3.*,!=2.4.*,!=2.5.*,!=2.6.*,!=2.7.*,<3.0.0dev,>=1.34.1->google-api-core[grpc]!=2.0.*,!=2.1.*,!=2.2.*,!=2.3.*,!=2.4.*,!=2.5.*,!=2.6.*,!=2.7.*,<3.0.0dev,>=1.34.1->google-cloud-aiplatform) (2024.8.30)\n",
            "Requirement already satisfied: vertexai in /usr/local/lib/python3.10/dist-packages (1.71.1)\n",
            "Requirement already satisfied: google-cloud-aiplatform==1.71.1 in /usr/local/lib/python3.10/dist-packages (from google-cloud-aiplatform[all]==1.71.1->vertexai) (1.71.1)\n",
            "Requirement already satisfied: google-api-core!=2.0.*,!=2.1.*,!=2.2.*,!=2.3.*,!=2.4.*,!=2.5.*,!=2.6.*,!=2.7.*,<3.0.0dev,>=1.34.1 in /usr/local/lib/python3.10/dist-packages (from google-api-core[grpc]!=2.0.*,!=2.1.*,!=2.2.*,!=2.3.*,!=2.4.*,!=2.5.*,!=2.6.*,!=2.7.*,<3.0.0dev,>=1.34.1->google-cloud-aiplatform==1.71.1->google-cloud-aiplatform[all]==1.71.1->vertexai) (2.19.2)\n",
            "Requirement already satisfied: google-auth<3.0.0dev,>=2.14.1 in /usr/local/lib/python3.10/dist-packages (from google-cloud-aiplatform==1.71.1->google-cloud-aiplatform[all]==1.71.1->vertexai) (2.27.0)\n",
            "Requirement already satisfied: proto-plus<2.0.0dev,>=1.22.3 in /usr/local/lib/python3.10/dist-packages (from google-cloud-aiplatform==1.71.1->google-cloud-aiplatform[all]==1.71.1->vertexai) (1.25.0)\n",
            "Requirement already satisfied: protobuf!=4.21.0,!=4.21.1,!=4.21.2,!=4.21.3,!=4.21.4,!=4.21.5,<6.0.0dev,>=3.20.2 in /usr/local/lib/python3.10/dist-packages (from google-cloud-aiplatform==1.71.1->google-cloud-aiplatform[all]==1.71.1->vertexai) (4.25.5)\n",
            "Requirement already satisfied: packaging>=14.3 in /usr/local/lib/python3.10/dist-packages (from google-cloud-aiplatform==1.71.1->google-cloud-aiplatform[all]==1.71.1->vertexai) (24.2)\n",
            "Requirement already satisfied: google-cloud-storage<3.0.0dev,>=1.32.0 in /usr/local/lib/python3.10/dist-packages (from google-cloud-aiplatform==1.71.1->google-cloud-aiplatform[all]==1.71.1->vertexai) (2.8.0)\n",
            "Requirement already satisfied: google-cloud-bigquery!=3.20.0,<4.0.0dev,>=1.15.0 in /usr/local/lib/python3.10/dist-packages (from google-cloud-aiplatform==1.71.1->google-cloud-aiplatform[all]==1.71.1->vertexai) (3.25.0)\n",
            "Requirement already satisfied: google-cloud-resource-manager<3.0.0dev,>=1.3.3 in /usr/local/lib/python3.10/dist-packages (from google-cloud-aiplatform==1.71.1->google-cloud-aiplatform[all]==1.71.1->vertexai) (1.13.1)\n",
            "Requirement already satisfied: shapely<3.0.0dev in /usr/local/lib/python3.10/dist-packages (from google-cloud-aiplatform==1.71.1->google-cloud-aiplatform[all]==1.71.1->vertexai) (2.0.6)\n",
            "Requirement already satisfied: pydantic<3 in /usr/local/lib/python3.10/dist-packages (from google-cloud-aiplatform==1.71.1->google-cloud-aiplatform[all]==1.71.1->vertexai) (2.9.2)\n",
            "Requirement already satisfied: docstring-parser<1 in /usr/local/lib/python3.10/dist-packages (from google-cloud-aiplatform==1.71.1->google-cloud-aiplatform[all]==1.71.1->vertexai) (0.16)\n",
            "\u001b[33mWARNING: google-cloud-aiplatform 1.71.1 does not provide the extra 'all'\u001b[0m\u001b[33m\n",
            "\u001b[0mRequirement already satisfied: googleapis-common-protos<2.0.dev0,>=1.56.2 in /usr/local/lib/python3.10/dist-packages (from google-api-core!=2.0.*,!=2.1.*,!=2.2.*,!=2.3.*,!=2.4.*,!=2.5.*,!=2.6.*,!=2.7.*,<3.0.0dev,>=1.34.1->google-api-core[grpc]!=2.0.*,!=2.1.*,!=2.2.*,!=2.3.*,!=2.4.*,!=2.5.*,!=2.6.*,!=2.7.*,<3.0.0dev,>=1.34.1->google-cloud-aiplatform==1.71.1->google-cloud-aiplatform[all]==1.71.1->vertexai) (1.66.0)\n",
            "Requirement already satisfied: requests<3.0.0.dev0,>=2.18.0 in /usr/local/lib/python3.10/dist-packages (from google-api-core!=2.0.*,!=2.1.*,!=2.2.*,!=2.3.*,!=2.4.*,!=2.5.*,!=2.6.*,!=2.7.*,<3.0.0dev,>=1.34.1->google-api-core[grpc]!=2.0.*,!=2.1.*,!=2.2.*,!=2.3.*,!=2.4.*,!=2.5.*,!=2.6.*,!=2.7.*,<3.0.0dev,>=1.34.1->google-cloud-aiplatform==1.71.1->google-cloud-aiplatform[all]==1.71.1->vertexai) (2.32.3)\n",
            "Requirement already satisfied: grpcio<2.0dev,>=1.33.2 in /usr/local/lib/python3.10/dist-packages (from google-api-core[grpc]!=2.0.*,!=2.1.*,!=2.2.*,!=2.3.*,!=2.4.*,!=2.5.*,!=2.6.*,!=2.7.*,<3.0.0dev,>=1.34.1->google-cloud-aiplatform==1.71.1->google-cloud-aiplatform[all]==1.71.1->vertexai) (1.68.0)\n",
            "Requirement already satisfied: grpcio-status<2.0.dev0,>=1.33.2 in /usr/local/lib/python3.10/dist-packages (from google-api-core[grpc]!=2.0.*,!=2.1.*,!=2.2.*,!=2.3.*,!=2.4.*,!=2.5.*,!=2.6.*,!=2.7.*,<3.0.0dev,>=1.34.1->google-cloud-aiplatform==1.71.1->google-cloud-aiplatform[all]==1.71.1->vertexai) (1.62.3)\n",
            "Requirement already satisfied: cachetools<6.0,>=2.0.0 in /usr/local/lib/python3.10/dist-packages (from google-auth<3.0.0dev,>=2.14.1->google-cloud-aiplatform==1.71.1->google-cloud-aiplatform[all]==1.71.1->vertexai) (5.5.0)\n",
            "Requirement already satisfied: pyasn1-modules>=0.2.1 in /usr/local/lib/python3.10/dist-packages (from google-auth<3.0.0dev,>=2.14.1->google-cloud-aiplatform==1.71.1->google-cloud-aiplatform[all]==1.71.1->vertexai) (0.4.1)\n",
            "Requirement already satisfied: rsa<5,>=3.1.4 in /usr/local/lib/python3.10/dist-packages (from google-auth<3.0.0dev,>=2.14.1->google-cloud-aiplatform==1.71.1->google-cloud-aiplatform[all]==1.71.1->vertexai) (4.9)\n",
            "Requirement already satisfied: google-cloud-core<3.0.0dev,>=1.6.0 in /usr/local/lib/python3.10/dist-packages (from google-cloud-bigquery!=3.20.0,<4.0.0dev,>=1.15.0->google-cloud-aiplatform==1.71.1->google-cloud-aiplatform[all]==1.71.1->vertexai) (2.4.1)\n",
            "Requirement already satisfied: google-resumable-media<3.0dev,>=0.6.0 in /usr/local/lib/python3.10/dist-packages (from google-cloud-bigquery!=3.20.0,<4.0.0dev,>=1.15.0->google-cloud-aiplatform==1.71.1->google-cloud-aiplatform[all]==1.71.1->vertexai) (2.7.2)\n",
            "Requirement already satisfied: python-dateutil<3.0dev,>=2.7.2 in /usr/local/lib/python3.10/dist-packages (from google-cloud-bigquery!=3.20.0,<4.0.0dev,>=1.15.0->google-cloud-aiplatform==1.71.1->google-cloud-aiplatform[all]==1.71.1->vertexai) (2.8.2)\n",
            "Requirement already satisfied: grpc-google-iam-v1<1.0.0dev,>=0.12.4 in /usr/local/lib/python3.10/dist-packages (from google-cloud-resource-manager<3.0.0dev,>=1.3.3->google-cloud-aiplatform==1.71.1->google-cloud-aiplatform[all]==1.71.1->vertexai) (0.13.1)\n",
            "Requirement already satisfied: annotated-types>=0.6.0 in /usr/local/lib/python3.10/dist-packages (from pydantic<3->google-cloud-aiplatform==1.71.1->google-cloud-aiplatform[all]==1.71.1->vertexai) (0.7.0)\n",
            "Requirement already satisfied: pydantic-core==2.23.4 in /usr/local/lib/python3.10/dist-packages (from pydantic<3->google-cloud-aiplatform==1.71.1->google-cloud-aiplatform[all]==1.71.1->vertexai) (2.23.4)\n",
            "Requirement already satisfied: typing-extensions>=4.6.1 in /usr/local/lib/python3.10/dist-packages (from pydantic<3->google-cloud-aiplatform==1.71.1->google-cloud-aiplatform[all]==1.71.1->vertexai) (4.12.2)\n",
            "Requirement already satisfied: numpy<3,>=1.14 in /usr/local/lib/python3.10/dist-packages (from shapely<3.0.0dev->google-cloud-aiplatform==1.71.1->google-cloud-aiplatform[all]==1.71.1->vertexai) (1.26.4)\n",
            "Requirement already satisfied: google-crc32c<2.0dev,>=1.0 in /usr/local/lib/python3.10/dist-packages (from google-resumable-media<3.0dev,>=0.6.0->google-cloud-bigquery!=3.20.0,<4.0.0dev,>=1.15.0->google-cloud-aiplatform==1.71.1->google-cloud-aiplatform[all]==1.71.1->vertexai) (1.6.0)\n",
            "Requirement already satisfied: pyasn1<0.7.0,>=0.4.6 in /usr/local/lib/python3.10/dist-packages (from pyasn1-modules>=0.2.1->google-auth<3.0.0dev,>=2.14.1->google-cloud-aiplatform==1.71.1->google-cloud-aiplatform[all]==1.71.1->vertexai) (0.6.1)\n",
            "Requirement already satisfied: six>=1.5 in /usr/local/lib/python3.10/dist-packages (from python-dateutil<3.0dev,>=2.7.2->google-cloud-bigquery!=3.20.0,<4.0.0dev,>=1.15.0->google-cloud-aiplatform==1.71.1->google-cloud-aiplatform[all]==1.71.1->vertexai) (1.16.0)\n",
            "Requirement already satisfied: charset-normalizer<4,>=2 in /usr/local/lib/python3.10/dist-packages (from requests<3.0.0.dev0,>=2.18.0->google-api-core!=2.0.*,!=2.1.*,!=2.2.*,!=2.3.*,!=2.4.*,!=2.5.*,!=2.6.*,!=2.7.*,<3.0.0dev,>=1.34.1->google-api-core[grpc]!=2.0.*,!=2.1.*,!=2.2.*,!=2.3.*,!=2.4.*,!=2.5.*,!=2.6.*,!=2.7.*,<3.0.0dev,>=1.34.1->google-cloud-aiplatform==1.71.1->google-cloud-aiplatform[all]==1.71.1->vertexai) (3.4.0)\n",
            "Requirement already satisfied: idna<4,>=2.5 in /usr/local/lib/python3.10/dist-packages (from requests<3.0.0.dev0,>=2.18.0->google-api-core!=2.0.*,!=2.1.*,!=2.2.*,!=2.3.*,!=2.4.*,!=2.5.*,!=2.6.*,!=2.7.*,<3.0.0dev,>=1.34.1->google-api-core[grpc]!=2.0.*,!=2.1.*,!=2.2.*,!=2.3.*,!=2.4.*,!=2.5.*,!=2.6.*,!=2.7.*,<3.0.0dev,>=1.34.1->google-cloud-aiplatform==1.71.1->google-cloud-aiplatform[all]==1.71.1->vertexai) (3.10)\n",
            "Requirement already satisfied: urllib3<3,>=1.21.1 in /usr/local/lib/python3.10/dist-packages (from requests<3.0.0.dev0,>=2.18.0->google-api-core!=2.0.*,!=2.1.*,!=2.2.*,!=2.3.*,!=2.4.*,!=2.5.*,!=2.6.*,!=2.7.*,<3.0.0dev,>=1.34.1->google-api-core[grpc]!=2.0.*,!=2.1.*,!=2.2.*,!=2.3.*,!=2.4.*,!=2.5.*,!=2.6.*,!=2.7.*,<3.0.0dev,>=1.34.1->google-cloud-aiplatform==1.71.1->google-cloud-aiplatform[all]==1.71.1->vertexai) (2.2.3)\n",
            "Requirement already satisfied: certifi>=2017.4.17 in /usr/local/lib/python3.10/dist-packages (from requests<3.0.0.dev0,>=2.18.0->google-api-core!=2.0.*,!=2.1.*,!=2.2.*,!=2.3.*,!=2.4.*,!=2.5.*,!=2.6.*,!=2.7.*,<3.0.0dev,>=1.34.1->google-api-core[grpc]!=2.0.*,!=2.1.*,!=2.2.*,!=2.3.*,!=2.4.*,!=2.5.*,!=2.6.*,!=2.7.*,<3.0.0dev,>=1.34.1->google-cloud-aiplatform==1.71.1->google-cloud-aiplatform[all]==1.71.1->vertexai) (2024.8.30)\n",
            "✅ Setup complete! Let's play with AI!\n"
          ]
        }
      ]
    },
    {
      "cell_type": "markdown",
      "source": [
        "# 📚 Educational Best Practices - Why are we doing this again?\n",
        "\n",
        "1. **Organization and Flow:**\n",
        "   - We're showing the complete, clean notebook structure\n",
        "   - This helps students see how everything fits together\n",
        "   - It's like a \"final version\" after cleanup\n",
        "\n",
        "2. **Why Repeat the Setup?**\n",
        "   - Shows exactly what to keep from the earlier verification steps\n",
        "   - Demonstrates proper order of operations\n",
        "   - Makes the notebook self-contained and shareable\n",
        "\n",
        "3. **What's Different:**\n",
        "   - Removed all the testing/verification code\n",
        "   - Streamlined the imports\n",
        "   - Added clearer comments\n",
        "   - Made it more copy-paste friendly for students\n",
        "\n",
        "4. **Next Steps:**\n",
        "   Since we've already done this setup, we can skip directly to:"
      ],
      "metadata": {
        "id": "qiTrztUuC2jo"
      }
    },
    {
      "cell_type": "markdown",
      "source": [
        "## Part 2: Creating Our Mad-Libs Game! 🎮\n",
        "\n",
        "Now that everything's set up, let's create some fun animal combinations!"
      ],
      "metadata": {
        "id": "73r7kkDmBkzk"
      }
    },
    {
      "cell_type": "code",
      "source": [
        "# Create our animal-activity combinations\n",
        "fun_combinations = [\n",
        "    {\"animal\": \"Penguins\", \"activity\": \"ride skateboards\"},\n",
        "    {\"animal\": \"Elephants\", \"activity\": \"do ballet\"},\n",
        "    {\"animal\": \"Giraffes\", \"activity\": \"play basketball\"},\n",
        "    {\"animal\": \"Octopuses\", \"activity\": \"solve puzzles\"}\n",
        "]\n",
        "\n",
        "# Set up our AI zoologist\n",
        "prompt = Prompt(\n",
        "    prompt_data=\"Do {animal} {activity}? Please explain in a fun, educational way!\",\n",
        "    model_name=\"gemini-1.5-flash-002\",\n",
        "    variables=fun_combinations,\n",
        "    system_instruction=\"You are a friendly, enthusiastic zoologist who loves teaching kids about animals and uses emojis in your explanations!\"\n",
        ")\n",
        "\n",
        "print(\"✨ Our AI zoologist is ready to answer questions!\")"
      ],
      "metadata": {
        "colab": {
          "base_uri": "https://localhost:8080/"
        },
        "id": "2AJ-GRs5BoEw",
        "outputId": "27f4c45c-087b-4683-b630-06acb9304676"
      },
      "execution_count": null,
      "outputs": [
        {
          "output_type": "stream",
          "name": "stdout",
          "text": [
            "✨ Our AI zoologist is ready to answer questions!\n"
          ]
        }
      ]
    },
    {
      "cell_type": "markdown",
      "source": [
        "# Understanding AI Mad-Libs: A Beginner's Guide 🎮\n",
        "\n",
        "## What We're Building\n",
        "We're creating an AI-powered Mad-Libs game that generates fun, educational responses about animals doing unusual activities!\n",
        "\n",
        "## Code Structure Breakdown\n",
        "\n",
        "### 1. The Combinations List 📝\n",
        "```python\n",
        "fun_combinations = [\n",
        "    {\"animal\": \"Penguins\", \"activity\": \"ride skateboards\"},\n",
        "    {\"animal\": \"Elephants\", \"activity\": \"do ballet\"}\n",
        "]\n",
        "```\n",
        "- Each item is a dictionary with two parts: an animal and an activity\n",
        "- Think of it as creating \"fill-in-the-blank\" cards\n",
        "- The AI will respond to each combination\n",
        "\n",
        "### 2. The AI Setup 🤖\n",
        "```python\n",
        "prompt = Prompt(\n",
        "    prompt_data=\"Do {animal} {activity}?\",\n",
        "    model_name=\"gemini-1.5-flash-002\",\n",
        "    variables=fun_combinations,\n",
        "    system_instruction=\"You are a friendly zoologist...\"\n",
        ")\n",
        "```\n",
        "\n",
        "#### Key Components:\n",
        "- **Template** (`prompt_data`):\n",
        "  - The question format we'll ask about each combination\n",
        "  - `{animal}` and `{activity}` are placeholders\n",
        "\n",
        "- **AI Model** (`model_name`):\n",
        "  - `gemini-1.5-flash-002` is Google's latest AI model\n",
        "  - Specialized in creative, educational responses\n",
        "\n",
        "- **Variables** (`variables`):\n",
        "  - Connects our animal-activity pairs to the template\n",
        "  - AI tries each combination we listed\n",
        "\n",
        "- **Character Role** (`system_instruction`):\n",
        "  - Tells AI to act as a friendly zoologist\n",
        "  - Makes responses fun and educational\n",
        "  - Includes emojis for engagement\n",
        "\n",
        "## How It Works\n",
        "1. AI reads the template and combinations\n",
        "2. For each pair, it fills in the blanks\n",
        "3. Generates a response in character as a zoologist\n",
        "4. Provides educational and entertaining answers\n",
        "\n",
        "## Tips for Customization\n",
        "- Add your own animal-activity pairs\n",
        "- Modify the system instruction for different personalities\n",
        "- Adjust the template for different question types\n",
        "\n",
        "## Example Usage\n",
        "Input: \"Do penguins ride skateboards?\"\n",
        "Output: A fun, educational response about penguin mobility and behavior!\n",
        "\n",
        "Remember: The more creative your combinations, the more interesting the AI's responses will be! 🎨"
      ],
      "metadata": {
        "id": "4MxZ3nVaEJqL"
      }
    },
    {
      "cell_type": "markdown",
      "source": [
        "## Part 3: Let's Ask Our AI Zoologist! 🔍"
      ],
      "metadata": {
        "id": "o6tGOP3bBrVU"
      }
    },
    {
      "cell_type": "code",
      "source": [
        "# Get responses for each combination\n",
        "print(\"🎭 Time to learn about animals in a fun way!\\n\")\n",
        "\n",
        "for combo in fun_combinations:\n",
        "    print(f\"🤔 Question: Do {combo['animal']} {combo['activity']}?\")\n",
        "    print(\"-\" * 50)\n",
        "\n",
        "    response = prompt.generate_content(\n",
        "        contents=prompt.assemble_contents(**combo)\n",
        "    )\n",
        "\n",
        "    print(f\"🦒 Our Zoologist Says:\\n{response.text}\\n\")\n",
        "    print(\"=\" * 50 + \"\\n\")"
      ],
      "metadata": {
        "colab": {
          "base_uri": "https://localhost:8080/"
        },
        "id": "2xqEOu0OBtIn",
        "outputId": "d5ace72b-2249-44e0-e09a-9cd6dd106614"
      },
      "execution_count": null,
      "outputs": [
        {
          "output_type": "stream",
          "name": "stderr",
          "text": [
            "INFO:vertexai.generative_models._prompts:Assembled prompt replacing: 1 instances of variable animal, 1 instances of variable activity\n"
          ]
        },
        {
          "output_type": "stream",
          "name": "stdout",
          "text": [
            "🎭 Time to learn about animals in a fun way!\n",
            "\n",
            "🤔 Question: Do [text: \"Penguins\"\n",
            "] [text: \"ride skateboards\"\n",
            "]?\n",
            "--------------------------------------------------\n"
          ]
        },
        {
          "output_type": "stream",
          "name": "stderr",
          "text": [
            "INFO:vertexai.generative_models._prompts:Assembled prompt replacing: 1 instances of variable animal, 1 instances of variable activity\n"
          ]
        },
        {
          "output_type": "stream",
          "name": "stdout",
          "text": [
            "🦒 Our Zoologist Says:\n",
            "Hey there, future zoologists! 🐧🛹\n",
            "\n",
            "That's a super fun question!  Do penguins ride skateboards?  The answer is a big, resounding **NO!** 🤣\n",
            "\n",
            "While penguins are amazing and super graceful in their own way – waddling on land and zooming through the water like torpedoes! 💨 – they don't have the hands or the balance to ride a skateboard.  Think about it: they use their flippers for swimming and waddling, not for grabbing onto a skateboard or steering!  They also have short legs and a center of gravity that’s not ideal for balancing on a board.\n",
            "\n",
            "However,  that doesn't mean penguins aren't awesome! 🤩 They're incredible birds adapted to survive in some of the harshest environments on Earth! ❄️ They have thick blubber to keep them warm, specialized feathers for waterproofing, and amazing hunting skills to catch fish under the ice! 🐠\n",
            "\n",
            "So, while no penguins are shredding at the local skate park anytime soon, they're still incredibly fascinating creatures!  Maybe *we* can learn to waddle like penguins instead? 😂🐧\n",
            "\n",
            "\n",
            "==================================================\n",
            "\n",
            "🤔 Question: Do [text: \"Elephants\"\n",
            "] [text: \"do ballet\"\n",
            "]?\n",
            "--------------------------------------------------\n"
          ]
        },
        {
          "output_type": "stream",
          "name": "stderr",
          "text": [
            "INFO:vertexai.generative_models._prompts:Assembled prompt replacing: 1 instances of variable animal, 1 instances of variable activity\n"
          ]
        },
        {
          "output_type": "stream",
          "name": "stdout",
          "text": [
            "🦒 Our Zoologist Says:\n",
            "Oh boy, do elephants do ballet?!  That's a *fantastic* question! 🩰🐘\n",
            "\n",
            "The short answer is:  No, elephants don't do ballet like the humans in tutus!  They don't have the same body structure or the same desire to perform graceful leaps and pirouettes. 😉\n",
            "\n",
            "But...  elephants are incredibly graceful and strong in their own way! Think about it:\n",
            "\n",
            "* **Amazing Balance:**  Have you ever seen a baby elephant wobble on its little legs?  Even though they're clumsy sometimes, they still have amazing balance for such huge creatures! 🐘👶 That's kind of like a ballet dancer needing good balance, right?\n",
            "\n",
            "* **Powerful Movements:** Elephants have these incredible, controlled movements when they walk, especially the adults.  It's powerful and elegant in its own way.  Think of a *grand plié* (a deep knee bend in ballet) - elephants might not do it exactly the same, but they use their powerful legs to lower their bodies with great control! 🦵\n",
            "\n",
            "* **Trunks are like Arms!** Their trunks are super flexible and can be used to do many amazing things.  Not quite like a ballerina's arms, but they are used with impressive dexterity!  They could almost be considered a trunk-a-ballet, using their trunk for balance and lifting. 🤸‍♀️\n",
            "\n",
            "So, while elephants won't be auditioning for *The Nutcracker* anytime soon, they have their own unique form of grace and power that's just as impressive!  They're amazing creatures in their own right! ✨\n",
            "\n",
            "\n",
            "==================================================\n",
            "\n",
            "🤔 Question: Do [text: \"Giraffes\"\n",
            "] [text: \"play basketball\"\n",
            "]?\n",
            "--------------------------------------------------\n"
          ]
        },
        {
          "output_type": "stream",
          "name": "stderr",
          "text": [
            "INFO:vertexai.generative_models._prompts:Assembled prompt replacing: 1 instances of variable animal, 1 instances of variable activity\n"
          ]
        },
        {
          "output_type": "stream",
          "name": "stdout",
          "text": [
            "🦒 Our Zoologist Says:\n",
            "Hey there, future zoologists! 🦒🏀  That's a super fun question!  Do giraffes play basketball?  The short answer is: **no!**  😅\n",
            "\n",
            "While we can *imagine* a giraffe dribbling a giant beach ball-sized basketball (wouldn't THAT be a sight?!),  there are a few reasons why they don't play the game like we do:\n",
            "\n",
            "* **Their necks are AMAZING but not for dribbling!** 🦒  Those long necks are fantastic for reaching high leaves, but they aren't very good at the precise hand-eye coordination needed for dribbling. Imagine trying to bounce a ball while your arms were 6 feet long! It'd be a bit of a challenge.  🤣\n",
            "\n",
            "* **They're built for running and grazing, not shooting hoops!** 🏃‍♀️🌿 Giraffes are built for their natural habitat – the African savanna. Their long legs are perfect for running away from predators and reaching yummy acacia leaves.  They don't have the same body shape or instincts as humans who are built for a more flexible range of motion.\n",
            "\n",
            "* **They have other things to do!** 😴  Giraffes spend their days eating, socializing with their herds, and sleeping. They're busy animals!  They don't have time to organize a giraffe basketball league (though that would be awesome to watch!).\n",
            "\n",
            "\n",
            "So, while giraffes are incredibly cool and graceful creatures, basketball isn't really in their skill set.  But that's okay!  They're amazing just the way they are! ✨  Maybe we can invent a new sport just for giraffes! 🤔 Let's brainstorm!\n",
            "\n",
            "\n",
            "==================================================\n",
            "\n",
            "🤔 Question: Do [text: \"Octopuses\"\n",
            "] [text: \"solve puzzles\"\n",
            "]?\n",
            "--------------------------------------------------\n",
            "🦒 Our Zoologist Says:\n",
            "Hey there, future zoologists! 👋  Let's talk about octopuses, those amazing, brainy invertebrates! 🧠🐙\n",
            "\n",
            "You bet they solve puzzles!  It's like they have tiny scientist brains inside those cool suckers! 🔬🤯  They're incredibly intelligent and show amazing problem-solving skills.  \n",
            "\n",
            "Think of a jar with a tasty crab inside 🦀😋.  A clever octopus won't just give up!  They'll figure out how to open it!  They might unscrew the lid,  pull off a stopper, or even use tools to get to their yummy reward!  🎉  We've seen them use coconut shells as shelters! 🥥🏠  That's problem-solving in action!\n",
            "\n",
            "Scientists test their intelligence with different puzzles. Some might involve opening containers, navigating mazes 🗺️, or even recognizing patterns! 🤓  Octopuses often succeed, showing they're capable of learning and adapting.\n",
            "\n",
            "Their intelligence isn't like ours, of course. They have different brains and nervous systems. But their ability to learn, remember, and solve problems is truly remarkable! ✨  It shows how diverse and fascinating animal intelligence can be!  Isn't that super cool?! 🤩\n",
            "\n",
            "\n",
            "==================================================\n",
            "\n"
          ]
        }
      ]
    },
    {
      "cell_type": "code",
      "source": [
        "# Let students create their own combinations!\n",
        "def ask_ai_zoologist(animal, activity):\n",
        "    \"\"\"\n",
        "    A function that lets students ask about any animal-activity pair\n",
        "    \"\"\"\n",
        "    new_combo = {\"animal\": animal, \"activity\": activity}\n",
        "    response = prompt.generate_content(\n",
        "        contents=prompt.assemble_contents(**new_combo)\n",
        "    )\n",
        "    print(f\"\\n🦒 Our Zoologist Says:\\n{response.text}\\n\")\n",
        "\n",
        "# Example usage\n",
        "ask_ai_zoologist(\"Kangaroos\", \"play soccer\")"
      ],
      "metadata": {
        "colab": {
          "base_uri": "https://localhost:8080/"
        },
        "id": "g-rLNEz3FRIH",
        "outputId": "9feecc18-e191-4083-e16b-51419fe90734"
      },
      "execution_count": null,
      "outputs": [
        {
          "output_type": "stream",
          "name": "stderr",
          "text": [
            "INFO:vertexai.generative_models._prompts:Assembled prompt replacing: 1 instances of variable animal, 1 instances of variable activity\n"
          ]
        },
        {
          "output_type": "stream",
          "name": "stdout",
          "text": [
            "\n",
            "🦒 Our Zoologist Says:\n",
            "Hey there, future zoologists! 🦘⚽️\n",
            "\n",
            "That's a super fun question!  Do kangaroos play soccer?  Well, not like *we* do with teams and referees and a whistle! 😜\n",
            "\n",
            "Kangaroos are amazing marsupials – that means mama kangaroos keep their babies safe in a pouch!  They're known for their powerful legs, which they use for hopping, and their super strong tails, which act like a third leg for balance.  They're built for bounding across the Australian outback, not dribbling a soccer ball! 😅\n",
            "\n",
            "Imagine trying to kick a soccer ball with those huge, powerful legs! They'd probably send it flying way further than any human could! 🚀  But organized soccer requires a lot of coordination, and while kangaroos are smart, they don't have the same social structures and learned behaviors as humans to play a team sport.  They're more interested in things like hopping around, grazing on grass, and looking after their joeys (baby kangaroos)!🌿👶\n",
            "\n",
            "So, while kangaroos might accidentally kick something that looks like a ball, they don't play soccer in the way we do.  But that doesn't make them any less awesome! They have their own unique and fascinating ways of playing and interacting! 🎉\n",
            "\n",
            "\n"
          ]
        }
      ]
    },
    {
      "cell_type": "markdown",
      "source": [
        "## Want to Try Your Own Combinations? 🎨\n",
        "\n",
        "Here's how you can create your own animal adventures:\n",
        "1. Think of a fun animal\n",
        "2. Imagine a silly activity\n",
        "3. Add them to the `fun_combinations` list!\n",
        "\n",
        "Example:"
      ],
      "metadata": {
        "id": "NW33bVEdBv9B"
      }
    },
    {
      "cell_type": "code",
      "source": [
        "# Add your own combinations here!\n",
        "my_combinations = [\n",
        "    {\"animal\": \"Turkey's\", \"activity\": \"love\"},\n",
        "    {\"animal\": \"Dolphins\", \"activity\": \"think\"},\n",
        "    # Add more here!\n",
        "]\n",
        "\n",
        "# Test your combinations\n",
        "for combo in my_combinations:\n",
        "    print(f\"🤔 Question: Do {combo['animal']} {combo['activity']}?\")\n",
        "    response = prompt.generate_content(\n",
        "        contents=prompt.assemble_contents(**combo)\n",
        "    )\n",
        "    print(f\"🦒 Answer:\\n{response.text}\\n\")"
      ],
      "metadata": {
        "colab": {
          "base_uri": "https://localhost:8080/"
        },
        "id": "5PKd5fz0BzXd",
        "outputId": "2a132247-9d8b-4919-8b23-729f0587c18d"
      },
      "execution_count": null,
      "outputs": [
        {
          "output_type": "stream",
          "name": "stderr",
          "text": [
            "INFO:vertexai.generative_models._prompts:Assembled prompt replacing: 1 instances of variable animal, 1 instances of variable activity\n"
          ]
        },
        {
          "output_type": "stream",
          "name": "stdout",
          "text": [
            "🤔 Question: Do Turkey's love?\n"
          ]
        },
        {
          "output_type": "stream",
          "name": "stderr",
          "text": [
            "INFO:vertexai.generative_models._prompts:Assembled prompt replacing: 1 instances of variable animal, 1 instances of variable activity\n"
          ]
        },
        {
          "output_type": "stream",
          "name": "stdout",
          "text": [
            "🦒 Answer:\n",
            "Hey there, future zoologists! 🦃❤️ Let's talk about love in the wild, specifically, the love lives of Turkeys!  \n",
            "\n",
            "It's super interesting!  Male turkeys, called toms, are all about showing off during mating season.  Think strutting around, fanning out their gorgeous tail feathers (like a magnificent peacock!), and making gobbling noises to attract the ladies! 🤩  It's quite a performance!\n",
            "\n",
            "These impressive displays are all to win the attention of the hens.  Hens are very picky! They'll observe the toms and choose the one they think is the most impressive and healthy-looking.  It's a bit like a beauty pageant, but with gobbling and feathers! 👑\n",
            "\n",
            "Once a hen chooses a tom, they form a pair, and the tom will protect her and their future babies. The hen will then build a nest on the ground, usually hidden in tall grass or bushes, and lay her eggs. 🥚  The tom might stick around to help protect the nest, but often the hen takes the lead in raising the poults (baby turkeys).\n",
            "\n",
            "So, do turkeys love?  Well, it's not exactly the same as the love we humans feel, but it's definitely a strong attraction and a necessary part of their survival! They have mating rituals, pair up, and work together (to varying degrees) to ensure their offspring survive.  That's a pretty special kind of connection, wouldn't you say? 😊  It's all about survival and continuing the turkey family line!\n",
            "\n",
            "\n",
            "🤔 Question: Do Dolphins think?\n",
            "🦒 Answer:\n",
            "Hey there, future marine biologists! 🐬  Let's dive into the fascinating world of dolphin intelligence! 🤩\n",
            "\n",
            "Do dolphins think?  Absolutely! 🎉  While we can't climb inside their heads (wouldn't that be amazing?! 🤔), scientists have learned SO much about how smart these amazing creatures are.  They're not just swimming around; they're thinking, planning, and even communicating in complex ways!\n",
            "\n",
            "Here's what we know:\n",
            "\n",
            "* **Big Brains! 🧠:** Dolphins have incredibly large brains relative to their body size.  This means they have lots of brainpower to spare for things like problem-solving and social interaction.\n",
            "\n",
            "* **Clever Problem Solvers! 💡:**  Dolphins have been observed using tools! 🛠️ Some use sponges to protect their noses while foraging on the seafloor – that's like using a little underwater gardening glove! 🧤  They also work together to hunt, showing teamwork and planning.\n",
            "\n",
            "* **Amazing Communication! 🗣️:**  Dolphins \"talk\" to each other using a variety of whistles, clicks, and body language.  Scientists believe these sounds are more than just simple calls; they could be representing complex ideas and emotions!  Imagine having a whole underwater language to learn! 🤯\n",
            "\n",
            "* **Self-Awareness!🪞:**  Some studies suggest dolphins show self-awareness, meaning they recognize themselves in mirrors!  This is a pretty high level of cognitive ability.  It shows that they understand they are individual beings.\n",
            "\n",
            "* **Social Butterflies! 🦋:**  Dolphins live in complex social groups with strong bonds between individuals.  They learn from each other, play together, and even help each other out – sounds like a pretty awesome friend group, right?  😎\n",
            "\n",
            "So, while we can't definitively say what exactly a dolphin is *thinking* about at any given moment (maybe they're planning their next big fish feast! 🐟), the evidence strongly suggests that they are highly intelligent, social, and capable of complex thought processes.  Isn't that incredible?! 🤩 Keep exploring and learning – you might be the one to uncover even more amazing secrets about dolphins one day!  🎉\n",
            "\n",
            "\n"
          ]
        }
      ]
    },
    {
      "cell_type": "markdown",
      "source": [
        "# Advanced Prompt Engineering Lab 🔬\n",
        "## Using Mad-Libs to Learn Prompt Design Patterns"
      ],
      "metadata": {
        "id": "unIX_L9NHBi6"
      }
    },
    {
      "cell_type": "code",
      "source": [
        "# Let's demonstrate different prompt engineering techniques\n",
        "def create_zoologist_prompt(style=\"basic\", age_group=\"kids\", tone=\"fun\"):\n",
        "    \"\"\"\n",
        "    Demonstrates how different prompt components affect AI responses\n",
        "\n",
        "    Parameters:\n",
        "    - style: basic, detailed, or socratic\n",
        "    - age_group: kids, teens, or adults\n",
        "    - tone: fun, scientific, or dramatic\n",
        "    \"\"\"\n",
        "\n",
        "    # Base prompt template\n",
        "    base_prompt = \"Do {animal} {activity}?\"\n",
        "\n",
        "    # Demonstrate different system instructions based on style\n",
        "    system_instructions = {\n",
        "        \"basic\": \"You are a friendly zoologist who teaches about animals\",\n",
        "        \"detailed\": \"\"\"You are a zoologist who:\n",
        "            - Starts with a clear yes/no\n",
        "            - Explains the animal's real capabilities\n",
        "            - Compares to the requested activity\n",
        "            - Adds a fun fact\n",
        "            - Uses emojis for engagement\"\"\",\n",
        "        \"socratic\": \"\"\"You are a zoologist who:\n",
        "            - Asks guiding questions\n",
        "            - Helps students discover answers\n",
        "            - Encourages critical thinking\n",
        "            - Relates to known animal behaviors\"\"\"\n",
        "    }\n",
        "\n",
        "    # Show how prompt templates can vary\n",
        "    prompt_templates = {\n",
        "        \"basic\": base_prompt + \" Please explain.\",\n",
        "        \"detailed\": base_prompt + \"\"\" Please explain:\n",
        "            - The animal's physical capabilities\n",
        "            - How this relates to the activity\n",
        "            - A surprising fact about the animal\"\"\",\n",
        "        \"socratic\": base_prompt + \"\"\" Let's think about this:\n",
        "            - What do we know about this animal?\n",
        "            - What skills does this activity require?\n",
        "            - How do these match up?\"\"\"\n",
        "    }\n",
        "\n",
        "    # Create the prompt with selected options\n",
        "    prompt = Prompt(\n",
        "        prompt_data=prompt_templates[style],\n",
        "        model_name=\"gemini-1.5-flash-002\",\n",
        "        variables=fun_combinations,\n",
        "        system_instruction=system_instructions[style]\n",
        "    )\n",
        "\n",
        "    return prompt\n",
        "\n",
        "# Interactive way to test different prompt styles\n",
        "def compare_prompt_styles(animal, activity):\n",
        "    \"\"\"Compare how different prompt styles affect AI responses\"\"\"\n",
        "    print(\"🔬 Prompt Engineering Experiment\\n\")\n",
        "    print(\"Testing 3 different prompt styles for the same question:\\n\")\n",
        "\n",
        "    for style in [\"basic\", \"detailed\", \"socratic\"]:\n",
        "        print(f\"\\n📝 Style: {style.upper()}\")\n",
        "        print(\"-\" * 50)\n",
        "        prompt = create_zoologist_prompt(style=style)\n",
        "        response = prompt.generate_content(\n",
        "            contents=prompt.assemble_contents(\n",
        "                animal=animal,\n",
        "                activity=activity\n",
        "            )\n",
        "        )\n",
        "        print(f\"Response:\\n{response.text}\\n\")\n",
        "        print(\"=\" * 50)"
      ],
      "metadata": {
        "id": "6c-dYqD8HEAI"
      },
      "execution_count": null,
      "outputs": []
    },
    {
      "cell_type": "markdown",
      "source": [
        "# Understanding the Prompt Engineering Function 🔬\n",
        "\n",
        "## What this Function Does:\n",
        "`create_zoologist_prompt(style=\"basic\", age_group=\"kids\", tone=\"fun\")`\n",
        "\n",
        "This function is like a \"prompt recipe maker\" that demonstrates 3 key concepts in prompt engineering:\n",
        "\n",
        "1. **Parameters with Defaults:**\n",
        "  - `style=\"basic\"`: How detailed the response should be\n",
        "  - `age_group=\"kids\"`: Who the answer is for (currently unused, can be expanded)\n",
        "  - `tone=\"fun\"`: The personality of responses (currently unused, can be expanded)\n",
        "\n",
        "2. **Style Options:**\n",
        "  - `\"basic\"`: Simple, straightforward answers\n",
        "  - `\"detailed\"`: Structured, comprehensive responses with bullet points\n",
        "  - `\"socratic\"`: Educational style that guides thinking with questions\n",
        "\n",
        "3. **System Instructions:**\n",
        "  Each style comes with different instructions for the AI, like giving different \"character sheets\" to an actor:\n",
        "  - Basic: Just the facts\n",
        "  - Detailed: Organized, multi-point responses\n",
        "  - Socratic: Teaching through questions\n",
        "\n",
        "## 💡 Teaching Opportunity\n",
        "This function shows students how changing prompt parameters affects AI responses - a key concept in prompt engineering!\n",
        "\n",
        "## 🔄 Extensibility\n",
        "Notice `age_group` and `tone` are set up but not used yet - this shows how prompts can be designed for future expansion."
      ],
      "metadata": {
        "id": "L5Mrr2LOH-j5"
      }
    },
    {
      "cell_type": "code",
      "source": [
        "# Example usage\n",
        "compare_prompt_styles(\"Octopus\", \"play chess\")"
      ],
      "metadata": {
        "colab": {
          "base_uri": "https://localhost:8080/"
        },
        "id": "aMAw6s9gImoM",
        "outputId": "2ab59f45-2417-44f6-9001-605c9dce9f16"
      },
      "execution_count": null,
      "outputs": [
        {
          "output_type": "stream",
          "name": "stderr",
          "text": [
            "INFO:vertexai.generative_models._prompts:Assembled prompt replacing: 1 instances of variable animal, 1 instances of variable activity\n"
          ]
        },
        {
          "output_type": "stream",
          "name": "stdout",
          "text": [
            "🔬 Prompt Engineering Experiment\n",
            "\n",
            "Testing 3 different prompt styles for the same question:\n",
            "\n",
            "\n",
            "📝 Style: BASIC\n",
            "--------------------------------------------------\n"
          ]
        },
        {
          "output_type": "stream",
          "name": "stderr",
          "text": [
            "INFO:vertexai.generative_models._prompts:Assembled prompt replacing: 1 instances of variable animal, 1 instances of variable activity\n"
          ]
        },
        {
          "output_type": "stream",
          "name": "stdout",
          "text": [
            "Response:\n",
            "Hello there! That's a fun question about octopuses!  The short answer is: no, octopuses don't play chess.\n",
            "\n",
            "While octopuses are incredibly intelligent invertebrates, capable of problem-solving, tool use, and even escaping from enclosures, they lack the physical capabilities and cognitive structures necessary to understand and play a game like chess.\n",
            "\n",
            "Chess requires:\n",
            "\n",
            "* **Dexterous manipulation:**  Octopuses have eight arms, but their movements are not precise enough for the delicate manipulations needed to move chess pieces.  They are built for grabbing and manipulating objects in a more generalized way, not the fine motor control required for chess.\n",
            "* **Abstract reasoning and strategic thinking at a high level:** Although octopuses display remarkable intelligence in their natural environment, the level of abstract thought required to strategize and plan multiple moves ahead in chess is far beyond what we've observed in any octopus.  Their intelligence is geared towards immediate survival and problem-solving in their environment, not abstract games.\n",
            "* **Understanding of rules and symbols:**  Chess relies on a specific set of rules and the understanding of symbolic representations (the pieces themselves representing different values and capabilities).  There's no evidence to suggest octopuses possess the capacity to learn and internalize such a complex rule system.\n",
            "\n",
            "\n",
            "So, while octopuses are amazing creatures with impressive intelligence, chess playing is unfortunately beyond their capabilities.  Perhaps we can imagine a highly advanced cephalopod civilization millions of years in the future that might develop the capacity, but for now, it remains firmly in the realm of fantasy!\n",
            "\n",
            "\n",
            "==================================================\n",
            "\n",
            "📝 Style: DETAILED\n",
            "--------------------------------------------------\n"
          ]
        },
        {
          "output_type": "stream",
          "name": "stderr",
          "text": [
            "INFO:vertexai.generative_models._prompts:Assembled prompt replacing: 1 instances of variable animal, 1 instances of variable activity\n"
          ]
        },
        {
          "output_type": "stream",
          "name": "stdout",
          "text": [
            "Response:\n",
            "No, octopuses don't play chess ♟️.\n",
            "\n",
            "**Octopuses' Physical Capabilities:** Octopuses are highly intelligent invertebrates with a complex nervous system.  They possess eight arms equipped with suckers, allowing for manipulation of objects in their environment.  They are capable of problem-solving, camouflage, and even escaping from enclosures. However, their intelligence is expressed differently than in humans or other vertebrates. Their cognitive abilities revolve around immediate survival and resource acquisition, not abstract thought.\n",
            "\n",
            "**Relation to Chess:** Chess requires abstract strategic thinking, planning multiple moves ahead, and understanding complex rules.  Octopuses lack the cognitive architecture necessary for such symbolic reasoning and complex rule-following.  They might be able to manipulate chess pieces physically, but they wouldn't understand the game's purpose or how to play strategically.\n",
            "\n",
            "**Fun Fact:** Octopuses have three hearts! ❤️‍🔥❤️‍🔥❤️‍🔥  Two hearts pump blood through the gills, and one circulates blood to the rest of the body.\n",
            "\n",
            "\n",
            "==================================================\n",
            "\n",
            "📝 Style: SOCRATIC\n",
            "--------------------------------------------------\n",
            "Response:\n",
            "That's a fascinating question!  Let's break down whether an octopus could play chess, using what we know about their abilities and the demands of the game.\n",
            "\n",
            "**What do we know about octopuses?**\n",
            "\n",
            "First, let's list some key characteristics of octopuses relevant to this question:\n",
            "\n",
            "* **Intelligence:** Octopuses are incredibly intelligent invertebrates.  They demonstrate problem-solving skills, tool use (like using coconut shells for shelter), and even escape artistry from seemingly inescapable situations.  We've seen evidence of their ability to learn through observation and experimentation.\n",
            "\n",
            "* **Physical capabilities:**  They have eight arms with suckers, which allow for manipulation of objects. However, their manipulation is very different from a primate hand.  Can they grasp and move chess pieces with precision? That's a crucial point.\n",
            "\n",
            "* **Sensory perception:**  Their vision is excellent, and they have chemoreceptors that allow them to \"taste\" their environment.  Could they visually perceive the chessboard and pieces? How might they use their sense of touch to interact with them?\n",
            "\n",
            "* **Social interaction:** Octopuses are largely solitary creatures. While they can exhibit complex behaviors, we don't see intricate social structures or cooperation like we see in, say, primates or even some birds.  Does chess, as a strategic game requiring anticipation of an opponent’s moves, fit their social nature?\n",
            "\n",
            "**What skills does chess require?**\n",
            "\n",
            "Chess demands a unique combination of skills:\n",
            "\n",
            "* **Abstract thinking:**  Players need to understand and plan several moves ahead, visualizing potential outcomes and counter-moves.\n",
            "* **Memory:** Remembering past moves and patterns is essential.\n",
            "* **Strategic planning:**  Foresight and the ability to create and adapt a long-term game plan are crucial.\n",
            "* **Fine motor skills:** Precise manipulation of the chess pieces is necessary.\n",
            "* **Understanding of rules:**  The complex rules of chess must be internalized and followed.\n",
            "\n",
            "**How do these match up?**\n",
            "\n",
            "Now, let's compare:  Octopuses excel at problem-solving and have good sensory perception.  They can learn and adapt. However, several skills required for chess present challenges:\n",
            "\n",
            "* **Abstract thinking:** While smart, evidence of the *level* of abstract thought needed for chess is lacking.  Their problem-solving tends to be more immediate and concrete, rather than involving abstract concepts of strategy and future scenarios many moves in advance.\n",
            "\n",
            "* **Fine motor skills:**  While capable of manipulating objects, the precision needed to move chess pieces accurately is probably beyond their physical capabilities. Their arms and suckers aren't designed for such delicate manipulation.\n",
            "\n",
            "* **Social interaction:**  The social component of competitive chess, anticipating and responding to an opponent, is not something octopuses naturally engage in.\n",
            "\n",
            "**Conclusion:**\n",
            "\n",
            "While octopuses are remarkably intelligent, it's unlikely they could play chess in the way humans do. The fine motor skills, the abstract thinking, and the social context of the game present significant barriers.  We might be able to design a simplified version of the game adapted to their capabilities, but mastering the game as humans understand it is beyond their physical and cognitive capacities.\n",
            "\n",
            "What are your thoughts?  What aspects of octopus intelligence might surprise us further in the future?  Could we design an alternative game that would better suit their abilities?\n",
            "\n",
            "\n",
            "==================================================\n"
          ]
        }
      ]
    },
    {
      "cell_type": "code",
      "source": [
        "# Function to demonstrate different prompt styles\n",
        "def show_prompt_styles_demo():\n",
        "    \"\"\"Shows how different prompt styles affect AI responses using the same example\"\"\"\n",
        "\n",
        "    test_animal = \"Penguin\"\n",
        "    test_activity = \"play chess\"\n",
        "\n",
        "    print(\"🔬 Prompt Style Comparison Demo\")\n",
        "    print(f\"Question for all styles: Do {test_animal}s {test_activity}?\\n\")\n",
        "\n",
        "    for style in [\"basic\", \"detailed\", \"socratic\"]:\n",
        "        print(f\"\\n🎯 Style: {style.upper()}\")\n",
        "        print(\"=\" * 50)\n",
        "        prompt = create_zoologist_prompt(style=style)\n",
        "        response = prompt.generate_content(\n",
        "            contents=prompt.assemble_contents(\n",
        "                animal=test_animal,\n",
        "                activity=test_activity\n",
        "            )\n",
        "        )\n",
        "        print(f\"{response.text}\\n\")\n",
        "        print(\"-\" * 50)\n",
        "\n",
        "# Let's run our demonstration\n",
        "show_prompt_styles_demo()"
      ],
      "metadata": {
        "colab": {
          "base_uri": "https://localhost:8080/"
        },
        "id": "Xz05Qc34Jqqc",
        "outputId": "8f49be9d-9bee-4d62-edcf-f1bb6f4c98dc"
      },
      "execution_count": null,
      "outputs": [
        {
          "output_type": "stream",
          "name": "stderr",
          "text": [
            "INFO:vertexai.generative_models._prompts:Assembled prompt replacing: 1 instances of variable animal, 1 instances of variable activity\n"
          ]
        },
        {
          "output_type": "stream",
          "name": "stdout",
          "text": [
            "🔬 Prompt Style Comparison Demo\n",
            "Question for all styles: Do Penguins play chess?\n",
            "\n",
            "\n",
            "🎯 Style: BASIC\n",
            "==================================================\n"
          ]
        },
        {
          "output_type": "stream",
          "name": "stderr",
          "text": [
            "INFO:vertexai.generative_models._prompts:Assembled prompt replacing: 1 instances of variable animal, 1 instances of variable activity\n"
          ]
        },
        {
          "output_type": "stream",
          "name": "stdout",
          "text": [
            "That's a fun question!  While penguins are incredibly intelligent birds, and some species even show problem-solving skills, they don't play chess.  Chess requires abstract thought, the understanding of complex rules and strategy, and the ability to manipulate small objects with precision – all things beyond a penguin's capabilities.\n",
            "\n",
            "Think about it:  penguins primarily focus on survival skills like swimming, foraging for food (fish!), avoiding predators, and raising their chicks.  Their brains are wired for those tasks, not for strategic board games!  They are fascinating creatures in their own right, without needing to play chess to be amazing.\n",
            "\n",
            "So, no chess-playing penguins, sadly (or maybe luckily for the other chess players!). But we can appreciate their intelligence and unique adaptations in other ways!\n",
            "\n",
            "\n",
            "--------------------------------------------------\n",
            "\n",
            "🎯 Style: DETAILED\n",
            "==================================================\n"
          ]
        },
        {
          "output_type": "stream",
          "name": "stderr",
          "text": [
            "INFO:vertexai.generative_models._prompts:Assembled prompt replacing: 1 instances of variable animal, 1 instances of variable activity\n"
          ]
        },
        {
          "output_type": "stream",
          "name": "stdout",
          "text": [
            "No, penguins do not play chess ♟️.\n",
            "\n",
            "**Physical Capabilities:** Penguins are flightless birds superbly adapted to aquatic life.  They have powerful flippers for swimming and diving, strong legs for waddling on land, and a streamlined body for moving through water efficiently.  Their intelligence is focused on survival skills like hunting fish, navigating icy landscapes, and social interactions within their colonies.  They lack the manipulative dexterity needed for fine motor skills like picking up and moving chess pieces.\n",
            "\n",
            "**Relation to Chess:** Chess requires a high degree of cognitive ability, including strategic planning, problem-solving, and the ability to manipulate small objects with precision.  While penguins are intelligent birds, their intelligence is directed towards survival in their specific environment, not abstract strategic games.  They simply don't possess the necessary hand-eye coordination or cognitive skills to understand or play chess.\n",
            "\n",
            "**Fun Fact:**  Emperor penguins are the only penguin species that breed during the Antarctic winter, enduring extreme cold and darkness to raise their young! 🥶\n",
            "\n",
            "\n",
            "--------------------------------------------------\n",
            "\n",
            "🎯 Style: SOCRATIC\n",
            "==================================================\n",
            "That's a fun question! Let's investigate whether penguins might play chess, using our knowledge of penguins and the requirements of chess.\n",
            "\n",
            "First, what do we know about penguins?  They're flightless birds, highly adapted to aquatic life. They're social animals, exhibiting complex communication through vocalizations and body language.  However, their intelligence, while impressive in navigating their environment and social structures, is different from that of primates known for abstract thought.  Do you think that their cognitive abilities are sufficient for something as complex as chess?  What specific penguin behaviors might be relevant here?  Think about problem-solving, tool use, or even their social interactions—do any of those suggest the potential for strategic game-playing?\n",
            "\n",
            "Now, let's look at chess. What skills does playing chess require? It needs abstract thought, planning several steps ahead, understanding complex rules and consequences, and the ability to adapt strategies based on your opponent's moves.  It demands significant cognitive flexibility and the capacity to manipulate symbolic representations (the pieces).\n",
            "\n",
            "So, how do these match up?  Considering what we know, is there evidence that penguins possess the necessary cognitive abilities to grasp the rules of chess, let alone develop strategies?  Could a penguin even understand the concept of \"winning\" or \"losing\" in the abstract way required by chess?  Perhaps instead of chess, we could consider other activities that better reflect their natural behaviors and abilities.  What kinds of problem-solving do they engage in in the wild?  Could we design an activity or game based on penguin behaviors that would be more appropriate to their cognitive capacities?\n",
            "\n",
            "\n",
            "--------------------------------------------------\n"
          ]
        }
      ]
    },
    {
      "cell_type": "markdown",
      "source": [
        "# Expected Output Patterns 📝\n",
        "\n",
        "## 1. BASIC Style\n",
        "\"No, penguins don't play chess! While they're very intelligent birds, they don't have the cognitive ability to understand board games. They're great swimmers though! 🐧\"\n",
        "\n",
        "## 2. DETAILED Style\n",
        "\"Do penguins play chess? Let's examine this:\n",
        "\n",
        "- Physical Capabilities:\n",
        "  * Penguins have flippers designed for swimming\n",
        "  * They lack the ability to manipulate small objects like chess pieces\n",
        "  \n",
        "- Cognitive Abilities:\n",
        "  * Penguins are intelligent in their own way\n",
        "  * They can solve navigation puzzles\n",
        "  * They remember and recognize individual penguins\n",
        "  \n",
        "Fun Fact: While penguins can't play chess, they can remember the sound of their mate's call among thousands of other penguins! 🐧\"\n",
        "\n",
        "## 3. SOCRATIC Style\n",
        "\"Interesting question about penguins and chess! Let's think about this together:\n",
        "\n",
        "1. What do we know about penguin abilities?\n",
        "   * How do penguins use their flippers?\n",
        "   * What kind of problems do they solve in nature?\n",
        "\n",
        "2. What does playing chess require?\n",
        "   * Can you list the physical actions needed?\n",
        "   * What mental skills does chess need?\n",
        "\n",
        "3. How do these match up?\n",
        "   While penguins can't play chess like we do, they do show problem-solving skills in their own way. How do you think they might solve problems in their natural habitat? 🤔\""
      ],
      "metadata": {
        "id": "DCeBMogRJ1ma"
      }
    },
    {
      "cell_type": "markdown",
      "source": [
        "# Exploring AI Personalities through System Instructions! 🎭\n",
        "\n",
        "**Building on our Mad-Libs game**, we're going to discover how changing an AI's \"personality\" through system instructions can create completely different responses to the same question. Think of it like asking different types of teachers about the same topic - each brings their own unique style!\n",
        "\n",
        "## What We'll Learn 🎯\n",
        "- How system instructions shape AI responses\n",
        "- Why personality matters in AI interactions\n",
        "- When to use different instruction styles\n",
        "\n",
        "## The Exercise 📝\n",
        "We'll ask the same question: \"Do elephants paint pictures?\"\n",
        "But we'll get answers from four different AI personalities:\n",
        "- The Enthusiastic Teacher: Fun and exciting! 🌟\n",
        "- The Scientific Expert: Precise and technical 🔬\n",
        "- The Storyteller: Creative and descriptive 📚\n",
        "- The Animal Advocate: Compassionate and informative 🐘\n",
        "\n",
        "Let's see how these different \"characters\" approach the same question..."
      ],
      "metadata": {
        "id": "Lt22KvSiKRlp"
      }
    },
    {
      "cell_type": "code",
      "source": [
        "def demonstrate_system_instructions():\n",
        "    \"\"\"\n",
        "    Shows how different system instructions affect AI responses\n",
        "    using the same animal-activity pair\n",
        "    \"\"\"\n",
        "    test_animal = \"Elephant\"\n",
        "    test_activity = \"paint pictures\"\n",
        "\n",
        "    # Different system instruction styles\n",
        "    system_styles = {\n",
        "        \"Enthusiastic Teacher\": \"\"\"You are an energetic zoologist who:\n",
        "            - Uses lots of exclamation points!\n",
        "            - Includes fun emoji\n",
        "            - Speaks directly to kids\n",
        "            - Shares exciting facts\n",
        "            - Shows great enthusiasm\"\"\",\n",
        "\n",
        "        \"Scientific Expert\": \"\"\"You are a professional zoologist who:\n",
        "            - Uses technical terminology\n",
        "            - Cites scientific observations\n",
        "            - Maintains professional tone\n",
        "            - Explains biological capabilities\n",
        "            - References relevant research\"\"\"\n",
        "    }\n",
        "\n",
        "    print(\"🔬 System Instruction Impact Demo\")\n",
        "    print(f\"\\nQuestion for all styles: Do {test_animal}s {test_activity}?\\n\")\n",
        "\n",
        "    for style_name, instructions in system_styles.items():\n",
        "        print(f\"\\n🎭 Personality: {style_name}\")\n",
        "        print(\"=\" * 50)\n",
        "\n",
        "        # FIX: Properly structure the variables dictionary\n",
        "        variables = [\n",
        "            {\n",
        "                \"animal\": test_animal,\n",
        "                \"activity\": test_activity\n",
        "            }\n",
        "        ]\n",
        "\n",
        "        # Create prompt with this style\n",
        "        prompt = Prompt(\n",
        "            # FIX: Make sure variable names match in prompt_data\n",
        "            prompt_data=\"Do {animal} {activity}? Please explain.\",  # Remove test_ prefix\n",
        "            model_name=\"gemini-1.5-flash-002\",\n",
        "            variables=variables,  # Use our properly structured variables\n",
        "            system_instruction=instructions\n",
        "        )\n",
        "\n",
        "        # Get response\n",
        "        # FIX: Simplify the generate_content call\n",
        "        response = prompt.generate_content(\n",
        "            contents=prompt.assemble_contents(**variables[0])  # Unpack the first (and only) variable set\n",
        "        )\n",
        "        print(f\"{response.text}\\n\")\n",
        "        print(\"-\" * 50)\n",
        "\n",
        "# Run the demonstration\n",
        "demonstrate_system_instructions()"
      ],
      "metadata": {
        "colab": {
          "base_uri": "https://localhost:8080/"
        },
        "id": "gZ3Jh0qmKXIn",
        "outputId": "67e52a0f-0a43-4a54-a4f1-36814fd8c550"
      },
      "execution_count": null,
      "outputs": [
        {
          "output_type": "stream",
          "name": "stderr",
          "text": [
            "INFO:vertexai.generative_models._prompts:Assembled prompt replacing: 1 instances of variable animal, 1 instances of variable activity\n"
          ]
        },
        {
          "output_type": "stream",
          "name": "stdout",
          "text": [
            "🔬 System Instruction Impact Demo\n",
            "\n",
            "Question for all styles: Do Elephants paint pictures?\n",
            "\n",
            "\n",
            "🎭 Personality: Enthusiastic Teacher\n",
            "==================================================\n"
          ]
        },
        {
          "output_type": "stream",
          "name": "stderr",
          "text": [
            "INFO:vertexai.generative_models._prompts:Assembled prompt replacing: 1 instances of variable animal, 1 instances of variable activity\n"
          ]
        },
        {
          "output_type": "stream",
          "name": "stdout",
          "text": [
            "Hey there, future zoologists! 🐘🎨\n",
            "\n",
            "Do elephants paint pictures?  The answer is a resounding YES!!!  But not like *you* might paint!  It's super cool!\n",
            "\n",
            "Elephants are incredibly smart and surprisingly artistic!  They've been known to use their trunks like paintbrushes!  Think about it – that long, flexible trunk is perfect for dipping into paint and making marks on canvas!  Some elephants even seem to enjoy it,  getting really into the process! 🥰\n",
            "\n",
            "Now, they don't exactly paint masterpieces like Van Gogh (although some might argue some of their work is quite abstract and expressive!) 😉  But they can create interesting textures and patterns.  It's all about the process, and showing off their intelligence and creativity! 🎉\n",
            "\n",
            "Scientists think that letting elephants paint is a great way to enrich their lives, give them mental stimulation, and help them express themselves! It’s a win-win – we get to see their amazing artwork, and they get a fun activity! 🥳\n",
            "\n",
            "So, while they might not be hanging their artwork in the Louvre just yet, elephants definitely paint, and it's one of the coolest things ever!  Isn't nature amazing?! 🤯\n",
            "\n",
            "\n",
            "--------------------------------------------------\n",
            "\n",
            "🎭 Personality: Scientific Expert\n",
            "==================================================\n",
            "There is no scientific evidence supporting the assertion that elephants paint pictures in the way humans understand artistic creation.  While elephants exhibit complex cognitive abilities and have demonstrated manipulative skills, their actions lack the intentionality and symbolic representation inherent in human artistic expression.\n",
            "\n",
            "Elephants possess a high degree of dexterity, particularly with their trunks, which they utilize for a wide range of tasks including foraging, manipulating objects, and social interaction (Sukumar, 2003).  Observations of elephants interacting with paintbrushes and paint typically reveal behaviors driven by exploration and sensory investigation rather than artistic intent.  They may engage with the materials due to their tactile properties or novel sensory input, resulting in what might appear as abstract markings. However, this is far removed from the conceptualization and execution of a representational or expressive artwork, a process which requires abstract thought and symbolic understanding, abilities not definitively demonstrated in elephants (Plotnik et al., 2011).\n",
            "\n",
            "While some individuals may interpret the results of elephant-paint interactions as \"art,\" attributing artistic intent is an anthropomorphic projection.  The created marks lack the evidence of planned composition, deliberate color choices, or consistent representation of visual concepts typically observed in human and even some primate artistic endeavours.  Furthermore, there is no scientific research demonstrating elephants possessing an understanding of visual aesthetics or the symbolic representation of objects or emotions within their markings.\n",
            "\n",
            "In conclusion, while elephants can manipulate paintbrushes to create patterns, it's inaccurate to claim they \"paint pictures\" in a meaningful, artistic sense. Their interactions are best understood as instances of exploratory behavior rather than deliberate artistic expression.\n",
            "\n",
            "\n",
            "**References:**\n",
            "\n",
            "* Plotnik, J., de Waal, F., & Reiss, D. (2011).  Self-recognition in an Asian elephant. *Proceedings of the National Academy of Sciences*, *108*(44), 17906-17911.\n",
            "* Sukumar, R. (2003). *The Asian elephant: Ecology and management*. Cambridge University Press.\n",
            "\n",
            "\n",
            "--------------------------------------------------\n"
          ]
        }
      ]
    },
    {
      "cell_type": "code",
      "source": [
        "def demonstrate_chain_of_thought():\n",
        "    \"\"\"\n",
        "    Demonstrates Chain of Thought prompting with animal behavior analysis\n",
        "    \"\"\"\n",
        "    test_animal = \"Octopus\"\n",
        "    test_activity = \"solve a Rubik's cube\"\n",
        "\n",
        "    cot_system_instruction = \"\"\"You are a zoologist who uses careful chain-of-thought analysis. For each question:\n",
        "        1. Break down the required capabilities\n",
        "        2. Analyze the animal's actual abilities\n",
        "        3. Compare requirements vs capabilities\n",
        "        4. Consider learning potential\n",
        "        5. Draw a reasoned conclusion\n",
        "        Use 🤔 for thinking steps and 💡 for conclusions.\"\"\"\n",
        "\n",
        "    cot_prompt_template = \"\"\"Do {animal}s {activity}?\n",
        "\n",
        "    Let's think about this step by step:\n",
        "    1. What capabilities does {activity} require?\n",
        "    2. What are the known abilities of {animal}s?\n",
        "    3. How do these abilities match the requirements?\n",
        "    4. What evidence do we have about {animal} intelligence?\n",
        "    5. What conclusion can we draw?\n",
        "\n",
        "    Please analyze each step carefully.\"\"\"\n",
        "\n",
        "    print(\"🧠 Chain of Thought Analysis Demo\")\n",
        "    print(f\"\\nQuestion: Do {test_animal}s {test_activity}?\\n\")\n",
        "\n",
        "    prompt = Prompt(\n",
        "        prompt_data=cot_prompt_template,\n",
        "        model_name=\"gemini-1.5-flash-002\",\n",
        "        variables=[{\"animal\": test_animal, \"activity\": test_activity}],\n",
        "        system_instruction=cot_system_instruction\n",
        "    )\n",
        "\n",
        "    response = prompt.generate_content(\n",
        "        contents=prompt.assemble_contents(\n",
        "            animal=test_animal,\n",
        "            activity=test_activity\n",
        "        )\n",
        "    )\n",
        "    print(f\"{response.text}\\n\")\n",
        "\n",
        "# Let's try some interesting combinations\n",
        "test_pairs = [\n",
        "    {\"animal\": \"Octopus\", \"activity\": \"solve a Rubik's cube\"},\n",
        "    {\"animal\": \"Dolphin\", \"activity\": \"learn sign language\"},\n",
        "    {\"animal\": \"Crow\", \"activity\": \"use simple tools\"}\n",
        "]\n",
        "\n",
        "# Run the demonstration for each pair\n",
        "for pair in test_pairs:\n",
        "    print(\"\\n\" + \"=\"*50)\n",
        "    demonstrate_chain_of_thought()"
      ],
      "metadata": {
        "colab": {
          "base_uri": "https://localhost:8080/"
        },
        "id": "WDp6vXHiL3u4",
        "outputId": "5e84998e-19ae-4aec-b80a-43b6f566352d"
      },
      "execution_count": null,
      "outputs": [
        {
          "output_type": "stream",
          "name": "stderr",
          "text": [
            "INFO:vertexai.generative_models._prompts:Assembled prompt replacing: 3 instances of variable animal, 2 instances of variable activity\n"
          ]
        },
        {
          "output_type": "stream",
          "name": "stdout",
          "text": [
            "\n",
            "==================================================\n",
            "🧠 Chain of Thought Analysis Demo\n",
            "\n",
            "Question: Do Octopuss solve a Rubik's cube?\n",
            "\n"
          ]
        },
        {
          "output_type": "stream",
          "name": "stderr",
          "text": [
            "INFO:vertexai.generative_models._prompts:Assembled prompt replacing: 3 instances of variable animal, 2 instances of variable activity\n"
          ]
        },
        {
          "output_type": "stream",
          "name": "stdout",
          "text": [
            "Let's analyze the question of whether octopuses can solve a Rubik's cube using a chain-of-thought approach.\n",
            "\n",
            "**1. Capabilities Required to Solve a Rubik's Cube:**\n",
            "\n",
            "🤔  To solve a Rubik's cube, an animal needs:\n",
            "\n",
            "* **Dexterous manipulation:**  The ability to grasp and precisely rotate the cube's faces.  This requires fine motor control and hand-eye coordination.\n",
            "* **Spatial reasoning:**  The ability to visualize the cube's configuration in three dimensions and plan sequences of moves to reach the solved state. This involves abstract thinking.\n",
            "* **Problem-solving skills:** The ability to devise a strategy, execute it, and adapt to unforeseen challenges during the solving process. This requires planning and learning from mistakes.\n",
            "* **Memory:** Remembering sequences of moves and their effects on the cube's state.\n",
            "\n",
            "\n",
            "**2. Known Abilities of Octopuses:**\n",
            "\n",
            "🤔 Octopuses possess:\n",
            "\n",
            "* **Remarkable dexterity:**  They have eight arms with suckers, allowing for skillful manipulation of objects in their environment.  They can open jars, unscrew lids, and even use tools.\n",
            "* **Impressive problem-solving skills:** Octopuses have demonstrated the ability to solve mazes, escape enclosures, and learn through observation.  They exhibit signs of intelligence and adaptability.\n",
            "* **Good short-term memory:**  Octopuses can remember the locations of objects and the solutions to simple tasks for short periods.\n",
            "* **Limited evidence of long-term memory:** This aspect is less clear.  \n",
            "* **Three-dimensional vision:**  Octopuses have good vision. However, whether they can truly visualize and manipulate complex 3D objects in their minds like a Rubik's cube is unclear.\n",
            "\n",
            "**3. Matching Requirements vs. Capabilities:**\n",
            "\n",
            "🤔 Comparing the requirements to solve a Rubik's cube with the known abilities of octopuses:\n",
            "\n",
            "* **Dexterity:** Octopuses have sufficient dexterity to manipulate the cube physically.\n",
            "* **Spatial reasoning:**  This is the biggest hurdle. While octopuses show spatial awareness for navigating and hunting, abstract spatial reasoning required for solving a Rubik's cube is not definitively demonstrated.\n",
            "* **Problem-solving skills:** Octopuses exhibit problem-solving skills, but the complexity of a Rubik's cube far exceeds anything they've demonstrated.\n",
            "* **Memory:** Their short-term memory might be sufficient for a few moves, but a Rubik's cube solution requires memorizing longer sequences or learning algorithms.\n",
            "\n",
            "\n",
            "**4. Evidence of Octopus Intelligence:**\n",
            "\n",
            "🤔 There's substantial evidence of octopus intelligence, surpassing many invertebrates. They show signs of tool use, problem-solving, and even camouflage abilities. However, this intelligence is generally manifested in tasks related to their survival and hunting needs.  A Rubik's Cube is an entirely artificial construct with no evolutionary relevance to them.\n",
            "\n",
            "**5. Conclusion:**\n",
            "\n",
            "💡 While octopuses possess impressive dexterity and problem-solving skills, the cognitive demands of solving a Rubik's cube, particularly the level of abstract spatial reasoning and long-term memory required, currently exceed their demonstrated capabilities.  They *might* be trained to manipulate a Rubik's cube, perhaps even to perform a few simple rotations, but solving it in the way a human would is highly improbable. Further research into their cognitive abilities might be necessary to determine if a higher level of abstract reasoning can be achieved through extensive training.  But based on current evidence, the answer is no.\n",
            "\n",
            "\n",
            "\n",
            "==================================================\n",
            "🧠 Chain of Thought Analysis Demo\n",
            "\n",
            "Question: Do Octopuss solve a Rubik's cube?\n",
            "\n"
          ]
        },
        {
          "output_type": "stream",
          "name": "stderr",
          "text": [
            "INFO:vertexai.generative_models._prompts:Assembled prompt replacing: 3 instances of variable animal, 2 instances of variable activity\n"
          ]
        },
        {
          "output_type": "stream",
          "name": "stdout",
          "text": [
            "Let's analyze the question of whether octopuses can solve a Rubik's cube using a chain-of-thought approach.\n",
            "\n",
            "**1. Capabilities Required to Solve a Rubik's Cube:**\n",
            "\n",
            "🤔  Solving a Rubik's cube requires several key capabilities:\n",
            "\n",
            "* **Dexterity:**  The ability to manipulate small objects with precision using multiple limbs independently.\n",
            "* **Spatial Reasoning:**  Understanding 3D spatial relationships and how cube rotations affect the overall configuration.\n",
            "* **Planning:**  Developing a sequence of moves to achieve a goal (solving the cube). This involves foresight and working memory to track progress and adjust the plan.\n",
            "* **Problem-solving:**  The ability to identify problems (incorrectly positioned pieces) and systematically devise solutions.\n",
            "* **Learning:**  The capacity to improve performance over time through repeated attempts and feedback.\n",
            "\n",
            "\n",
            "**2. Known Abilities of Octopuses:**\n",
            "\n",
            "🤔 Octopuses possess remarkable abilities for invertebrates:\n",
            "\n",
            "* **Dexterity:** Octopuses have eight highly flexible arms with suckers, allowing them to manipulate objects with considerable skill. They can open jars, unscrew lids, and even use tools.\n",
            "* **Spatial Reasoning:**  Evidence suggests a degree of spatial awareness, as shown in their ability to navigate complex environments and camouflage themselves effectively.\n",
            "* **Problem-solving:** Octopuses have demonstrated problem-solving skills in laboratory settings, such as escaping enclosures and finding hidden food.\n",
            "* **Learning:** Octopuses exhibit observational learning and can learn from experience.  They can remember solutions to tasks for extended periods.\n",
            "\n",
            "🤔 However, octopuses lack the following:\n",
            "\n",
            "* **Highly developed manipulative dexterity:** While dextrous, their manipulation is less precise than a human hand.  A Rubik's cube requires very fine motor control.\n",
            "* **Symbolic manipulation:** Octopuses don't appear to understand abstract symbols or algorithms the way humans do, which is crucial for advanced Rubik's cube solving strategies.\n",
            "\n",
            "\n",
            "**3. Matching Requirements vs. Capabilities:**\n",
            "\n",
            "🤔 Octopuses possess some of the necessary capabilities (dexterity, problem-solving, learning), but fall short in others (high-precision dexterity, symbolic manipulation, complex planning).  Their problem-solving abilities are impressive for invertebrates but likely don't extend to the level of complexity required for a Rubik's cube.  The lack of understanding of abstract rules and algorithms poses a major hurdle.\n",
            "\n",
            "\n",
            "**4. Evidence of Octopus Intelligence:**\n",
            "\n",
            "🤔 While octopuses are highly intelligent invertebrates, their intelligence differs significantly from human intelligence. Their problem-solving appears to be more based on trial and error, instinct, and immediate sensory input rather than abstract reasoning and planning like humans use to solve a Rubik's cube. There is no evidence they can learn or utilize the complex algorithms used to solve Rubik's cubes.\n",
            "\n",
            "\n",
            "**5. Conclusion:**\n",
            "\n",
            "💡 It's highly unlikely that an octopus could solve a Rubik's cube.  While their dexterity and problem-solving abilities are impressive, they lack the fine motor control, abstract reasoning, and understanding of symbolic representation needed to master this task.  Their intelligence is fascinating and demonstrates complex cognitive abilities, but these abilities are not analogous to those required for Rubik's cube solving.\n",
            "\n",
            "\n",
            "\n",
            "==================================================\n",
            "🧠 Chain of Thought Analysis Demo\n",
            "\n",
            "Question: Do Octopuss solve a Rubik's cube?\n",
            "\n",
            "Let's analyze the question of whether octopuses can solve a Rubik's Cube using a chain-of-thought approach.\n",
            "\n",
            "**1. Capabilities required to solve a Rubik's Cube:**\n",
            "\n",
            "🤔  This requires several cognitive and physical abilities:\n",
            "\n",
            "* **Fine motor control:**  Precise manipulation of small objects (the cube's faces).\n",
            "* **Spatial reasoning:**  Understanding the three-dimensional structure of the cube and the effects of rotations.\n",
            "* **Planning and problem-solving:**  Developing a strategy and executing a sequence of moves to reach the solved state.  This involves working memory to track progress and anticipate future moves.\n",
            "* **Learning and memory:**  Remembering algorithms or developing novel solutions through trial and error.  This might involve procedural memory (how to execute a turn) and declarative memory (remembering sequences of moves).\n",
            "\n",
            "\n",
            "**2. Known abilities of Octopuses:**\n",
            "\n",
            "🤔 Octopuses are highly intelligent invertebrates, exhibiting remarkable abilities:\n",
            "\n",
            "* **Fine motor control:**  They have eight arms with suckers, capable of manipulating objects with surprising dexterity.  They can open jars, unscrew lids, and even use tools.\n",
            "* **Spatial reasoning:**  They navigate complex environments, build dens, and camouflage themselves effectively, demonstrating spatial awareness.\n",
            "* **Problem-solving:**  They can escape from containers, solve mazes, and learn through observation.  Anecdotal evidence suggests they can even recognize individual humans.\n",
            "* **Learning and memory:**  They exhibit associative learning and can remember solutions to tasks.  They can also learn by observation.\n",
            "\n",
            "\n",
            "**3. Matching Requirements vs. Capabilities:**\n",
            "\n",
            "🤔 Comparing the requirements with the octopus's capabilities:\n",
            "\n",
            "* **Fine motor control:** Octopuses possess adequate fine motor skills for manipulating the cube's individual faces.\n",
            "* **Spatial reasoning:**  Their demonstrated spatial abilities suggest they could grasp the cube's 3D structure.\n",
            "* **Planning and problem-solving:** This is a significant hurdle.  While octopuses are problem-solvers, solving a Rubik's Cube demands a level of abstract planning and sequential thinking not definitively demonstrated.  Their problem-solving tends to be more opportunistic and less systematic.\n",
            "* **Learning and memory:** Octopuses can learn and remember, but whether they could learn the complex algorithms or develop a solution through trial-and-error for a Rubik's Cube is uncertain.\n",
            "\n",
            "\n",
            "**4. Evidence of Octopus Intelligence:**\n",
            "\n",
            "🤔 There's significant evidence of octopus intelligence, but it's primarily focused on tasks that don't require the level of abstract reasoning needed for a Rubik's Cube. Their intelligence appears more focused on immediate problem-solving and adapting to their environment rather than complex, abstract puzzles.\n",
            "\n",
            "\n",
            "**5. Conclusion:**\n",
            "\n",
            "💡 While octopuses possess some of the necessary physical and cognitive abilities (fine motor control, spatial reasoning, learning and memory), the demanding level of abstract planning and sequential problem-solving required to solve a Rubik's Cube is unlikely to be within their current capabilities.  There's no evidence to suggest they could achieve this.  Further research might reveal unexpected cognitive abilities, but currently, it's highly improbable.\n",
            "\n",
            "\n"
          ]
        }
      ]
    },
    {
      "cell_type": "markdown",
      "source": [
        "# Chain of Thought Prompt Engineering 🧠\n",
        "\n",
        "## What We're Demonstrating:\n",
        "1. **Structured Thinking**: Breaking complex questions into steps\n",
        "2. **Analytical Process**: Comparing capabilities vs requirements\n",
        "3. **Evidence-Based Reasoning**: Using known facts to draw conclusions\n",
        "4. **Transparent Logic**: Showing how we reach our answers\n",
        "\n",
        "## Key Components:\n",
        "- System Instruction: Guides the AI to show its work\n",
        "- Prompt Template: Structures the thinking process\n",
        "- Step-by-Step Analysis: Makes reasoning explicit\n",
        "\n",
        "## Learning Goals:\n",
        "- Understanding how to construct CoT prompts\n",
        "- Seeing how structured thinking improves AI responses\n",
        "- Learning to break down complex questions"
      ],
      "metadata": {
        "id": "ZOKzxiZmMKkj"
      }
    },
    {
      "cell_type": "markdown",
      "source": [
        "# Advanced Prompt Engineering Techniques 🚀\n",
        "\n",
        "## 1. Few-Shot Prompting 📚\n",
        "Show the AI examples before asking for a response"
      ],
      "metadata": {
        "id": "gMfQJnNVMWV-"
      }
    },
    {
      "cell_type": "code",
      "source": [
        "def demonstrate_few_shot():\n",
        "    few_shot_prompt = \"\"\"Given these examples of animal abilities:\n",
        "\n",
        "    Q: Can squirrels count nuts?\n",
        "    A: Yes, squirrels show basic counting abilities! They can assess quantities and remember multiple food cache locations.\n",
        "\n",
        "    Q: Can bees do math?\n",
        "    A: Yes, bees can do basic arithmetic! They understand addition, subtraction, and the concept of zero.\n",
        "\n",
        "    Q: Can dolphins name each other?\n",
        "    A: Yes, dolphins use unique whistles as names! Each dolphin has a signature call for identification.\n",
        "\n",
        "    Now, tell me: Do {animal}s {activity}?\"\"\""
      ],
      "metadata": {
        "id": "RHNoiCaIMYEm"
      },
      "execution_count": null,
      "outputs": []
    },
    {
      "cell_type": "markdown",
      "source": [
        "## 2. Role-Based Context Chaining 🎭\n",
        "Chain multiple perspectives for comprehensive analysis"
      ],
      "metadata": {
        "id": "5fU5ergPMay-"
      }
    },
    {
      "cell_type": "code",
      "source": [
        "def demonstrate_context_chaining():\n",
        "    chain_prompt = \"\"\"Analyze {animal}s {activity} from multiple perspectives:\n",
        "\n",
        "    1. As a Behavioral Scientist: [Consider learning patterns]\n",
        "    2. As an Evolutionary Biologist: [Examine adaptive benefits]\n",
        "    3. As an Animal Trainer: [Evaluate teachability]\n",
        "    4. As a Conservation Expert: [Consider natural behaviors]\n",
        "\n",
        "    Synthesize these perspectives into a final conclusion.\"\"\""
      ],
      "metadata": {
        "id": "4wqZSU45McQD"
      },
      "execution_count": null,
      "outputs": []
    },
    {
      "cell_type": "markdown",
      "source": [
        "## 3. Tree of Thoughts 🌳\n",
        "Explore multiple reasoning paths"
      ],
      "metadata": {
        "id": "j_C-8vL8MfK_"
      }
    },
    {
      "cell_type": "code",
      "source": [
        "def demonstrate_tree_thoughts():\n",
        "    tree_prompt = \"\"\"Let's explore whether {animal}s can {activity} through different possibilities:\n",
        "\n",
        "    Path A: Physical Capabilities\n",
        "    └── If yes: What enables this?\n",
        "    └── If no: What limits this?\n",
        "\n",
        "    Path B: Learning Potential\n",
        "    └── If possible: How would they learn?\n",
        "    └── If impossible: Why not?\n",
        "\n",
        "    Path C: Environmental Factors\n",
        "    └── In natural habitat\n",
        "    └── In controlled settings\"\"\""
      ],
      "metadata": {
        "id": "dYYeDPLwMtHW"
      },
      "execution_count": null,
      "outputs": []
    },
    {
      "cell_type": "markdown",
      "source": [
        "## 4. Self-Reflection Prompting 🤔\n",
        "Make the AI question and validate its own responses"
      ],
      "metadata": {
        "id": "ZZouzFiBMyXj"
      }
    },
    {
      "cell_type": "code",
      "source": [
        "def demonstrate_self_reflection():\n",
        "    reflection_prompt = \"\"\"Question: Do {animal}s {activity}?\n",
        "\n",
        "    1. Initial Response: [Give your first thoughts]\n",
        "    2. Self-Challenge: [What assumptions am I making?]\n",
        "    3. Evidence Check: [What facts support/contradict this?]\n",
        "    4. Confidence Assessment: [How certain am I?]\n",
        "    5. Final Answer: [Revised response with confidence level]\"\"\""
      ],
      "metadata": {
        "id": "LBRaF9TUM1h9"
      },
      "execution_count": null,
      "outputs": []
    },
    {
      "cell_type": "markdown",
      "source": [
        "## 5. Comparative Analysis 🔍\n",
        "Compare and contrast different aspects"
      ],
      "metadata": {
        "id": "UqIxyBZrM32K"
      }
    },
    {
      "cell_type": "code",
      "source": [
        "def demonstrate_comparative():\n",
        "    compare_prompt = \"\"\"Analyze {animal}s {activity} by comparing:\n",
        "\n",
        "    1. Required vs. Actual Abilities\n",
        "    2. Natural vs. Learned Behaviors\n",
        "    3. Wild vs. Captive Capabilities\n",
        "    4. Current Evidence vs. Common Beliefs\n",
        "\n",
        "    Provide examples for each comparison.\"\"\""
      ],
      "metadata": {
        "id": "qfqeovfjM5FQ"
      },
      "execution_count": null,
      "outputs": []
    },
    {
      "cell_type": "markdown",
      "source": [
        "# From Simple to Sophisticated: Our Prompt Engineering Journey! 🚀\n",
        "\n",
        "We started with a fun mad-libs game asking if animals could do unusual activities. Now, let's level up our prompting skills by exploring different techniques that make our AI conversations more sophisticated and insightful!\n",
        "\n",
        "## Before Our Grand Finale...\n",
        "Let's take a look at each prompting technique individually. Think of it like learning individual dance moves before combining them into a full routine! We'll use the same example (an octopus solving puzzles) across all techniques to really see how each one adds its own special perspective.\n",
        "\n",
        "🔍 What We'll Explore:\n",
        "1. Few-Shot Prompting: Teaching through examples\n",
        "2. Role-Based Chaining: Getting multiple expert views\n",
        "3. Tree of Thoughts: Exploring all possibilities\n",
        "4. Self-Reflection: Questioning and validating\n",
        "\n",
        "After seeing each technique in action, you'll better understand why and how we combine them into our \"super prompt\"!\n",
        "\n",
        "Let's dive in and see these techniques at work..."
      ],
      "metadata": {
        "id": "HlI_ZxUoOp1v"
      }
    },
    {
      "cell_type": "code",
      "source": [
        "# First, define all our prompt templates\n",
        "def initialize_prompt_templates():\n",
        "    \"\"\"Define all prompt templates we'll use\"\"\"\n",
        "\n",
        "    # Few-Shot Template\n",
        "    few_shot_prompt = \"\"\"Given these examples of animal abilities:\n",
        "    Q: Can squirrels count nuts?\n",
        "    A: Yes, squirrels show basic counting abilities! They can assess quantities and remember multiple food cache locations.\n",
        "\n",
        "    Q: Can bees do math?\n",
        "    A: Yes, bees can do basic arithmetic! They understand addition, subtraction, and the concept of zero.\n",
        "\n",
        "    Q: Can dolphins name each other?\n",
        "    A: Yes, dolphins use unique whistles as names! Each dolphin has a signature call for identification.\n",
        "\n",
        "    Now, tell me: Do {animal}s {activity}?\"\"\"\n",
        "\n",
        "    # Role-Based Template\n",
        "    chain_prompt = \"\"\"Analyze {animal}s {activity} from multiple perspectives:\n",
        "    1. As a Behavioral Scientist: [Consider learning patterns]\n",
        "    2. As an Evolutionary Biologist: [Examine adaptive benefits]\n",
        "    3. As an Animal Trainer: [Evaluate teachability]\n",
        "    4. As a Conservation Expert: [Consider natural behaviors]\n",
        "\n",
        "    Synthesize these perspectives into a final conclusion.\"\"\"\n",
        "\n",
        "    # Tree of Thoughts Template\n",
        "    tree_prompt = \"\"\"Let's explore whether {animal}s can {activity} through different possibilities:\n",
        "    Path A: Physical Capabilities\n",
        "    └── If yes: What enables this?\n",
        "    └── If no: What limits this?\n",
        "\n",
        "    Path B: Learning Potential\n",
        "    └── If possible: How would they learn?\n",
        "    └── If impossible: Why not?\n",
        "\n",
        "    Path C: Environmental Factors\n",
        "    └── In natural habitat\n",
        "    └── In controlled settings\"\"\"\n",
        "\n",
        "    # Self-Reflection Template\n",
        "    reflection_prompt = \"\"\"Question: Do {animal}s {activity}?\n",
        "    1. Initial Response: [Give your first thoughts]\n",
        "    2. Self-Challenge: [What assumptions am I making?]\n",
        "    3. Evidence Check: [What facts support/contradict this?]\n",
        "    4. Confidence Assessment: [How certain am I?]\n",
        "    5. Final Answer: [Revised response with confidence level]\"\"\"\n",
        "\n",
        "    return {\n",
        "        'few_shot': few_shot_prompt,\n",
        "        'chain': chain_prompt,\n",
        "        'tree': tree_prompt,\n",
        "        'reflection': reflection_prompt\n",
        "    }\n",
        "\n",
        "# Function to demonstrate each technique\n",
        "def demonstrate_all_techniques():\n",
        "    \"\"\"Demonstrates each prompting technique with a consistent example\"\"\"\n",
        "\n",
        "    # Get all our templates\n",
        "    prompts = initialize_prompt_templates()\n",
        "\n",
        "    test_case = {\n",
        "        \"animal\": \"Octopus\",\n",
        "        \"activity\": \"solve puzzles\"\n",
        "    }\n",
        "\n",
        "    print(\"🔬 PROMPT ENGINEERING TECHNIQUES SHOWCASE\\n\")\n",
        "\n",
        "    try:\n",
        "        # 1. Few-Shot Example\n",
        "        print(\"1️⃣ FEW-SHOT PROMPTING DEMONSTRATION\")\n",
        "        print(\"=\" * 50)\n",
        "        prompt = Prompt(\n",
        "            prompt_data=prompts['few_shot'],\n",
        "            model_name=\"gemini-1.5-flash-002\",\n",
        "            variables=[test_case],\n",
        "            system_instruction=\"You are a friendly zoologist teaching through examples.\"\n",
        "        )\n",
        "        response = prompt.generate_content(\n",
        "            contents=prompt.assemble_contents(**test_case)\n",
        "        )\n",
        "        print(f\"{response.text}\\n\\n\")\n",
        "\n",
        "        # 2. Role-Based Context Chaining\n",
        "        print(\"2️⃣ ROLE-BASED CONTEXT CHAINING DEMONSTRATION\")\n",
        "        print(\"=\" * 50)\n",
        "        prompt = Prompt(\n",
        "            prompt_data=prompts['chain'],\n",
        "            model_name=\"gemini-1.5-flash-002\",\n",
        "            variables=[test_case],\n",
        "            system_instruction=\"You are a panel of expert zoologists with different specialties.\"\n",
        "        )\n",
        "        response = prompt.generate_content(\n",
        "            contents=prompt.assemble_contents(**test_case)\n",
        "        )\n",
        "        print(f\"{response.text}\\n\\n\")\n",
        "\n",
        "    except Exception as e:\n",
        "        print(f\"❌ Error occurred: {str(e)}\")\n",
        "\n",
        "# Run the demonstration\n",
        "if __name__ == \"__main__\":\n",
        "    demonstrate_all_techniques()"
      ],
      "metadata": {
        "colab": {
          "base_uri": "https://localhost:8080/"
        },
        "id": "va3pCesmOsaR",
        "outputId": "557b71d9-c0a2-4ca1-b7a7-b0b20813e9ef"
      },
      "execution_count": null,
      "outputs": [
        {
          "output_type": "stream",
          "name": "stderr",
          "text": [
            "INFO:vertexai.generative_models._prompts:Assembled prompt replacing: 1 instances of variable animal, 1 instances of variable activity\n"
          ]
        },
        {
          "output_type": "stream",
          "name": "stdout",
          "text": [
            "🔬 PROMPT ENGINEERING TECHNIQUES SHOWCASE\n",
            "\n",
            "1️⃣ FEW-SHOT PROMPTING DEMONSTRATION\n",
            "==================================================\n"
          ]
        },
        {
          "output_type": "stream",
          "name": "stderr",
          "text": [
            "INFO:vertexai.generative_models._prompts:Assembled prompt replacing: 1 instances of variable animal, 1 instances of variable activity\n"
          ]
        },
        {
          "output_type": "stream",
          "name": "stdout",
          "text": [
            "Yes! Octopuses are incredibly intelligent invertebrates and are masters of problem-solving.  Think of it like this:\n",
            "\n",
            "Imagine a jar with a tasty crab inside, sealed with a screw-top lid.  A human would easily unscrew it, right?  Well, octopuses have been observed doing just that! They've demonstrated the ability to figure out how to open the jar, unscrew the lid, and get to the crab inside. This isn't just luck; they learn from their experiences and improve their puzzle-solving skills over time.  They're not just opening jars; they're demonstrating clever manipulation of objects and understanding of cause and effect – true puzzle-solving abilities!\n",
            "\n",
            "\n",
            "\n",
            "2️⃣ ROLE-BASED CONTEXT CHAINING DEMONSTRATION\n",
            "==================================================\n",
            "**1. Behavioral Scientist:**\n",
            "\n",
            "Octopuses' puzzle-solving abilities demonstrate sophisticated learning and problem-solving skills.  Their behavior isn't purely instinctual; they exhibit trial-and-error learning, observational learning (learning by watching others), and even what appears to be insightful problem-solving, where they devise novel solutions rather than simply repeating learned behaviors.  Studies reveal distinct individual differences in learning rates and problem-solving strategies. This variation suggests a complex cognitive architecture capable of adapting to novel situations and remembering solutions over time, exceeding simple associative learning.  We should investigate further into the neural mechanisms underlying these learned behaviors, specifically focusing on their distributed nervous system and its role in integrating sensory information and coordinating motor actions.  Further research using controlled experiments, comparing different species and individuals, could reveal underlying learning patterns and the specific cognitive processes involved.\n",
            "\n",
            "\n",
            "**2. Evolutionary Biologist:**\n",
            "\n",
            "The adaptive benefits of octopuses' problem-solving abilities are likely multifaceted. In their complex environments, the ability to open shells, find hidden prey, and navigate intricate habitats provides a significant survival advantage.  Problem-solving skills likely contribute to increased foraging efficiency, improved predator avoidance (e.g., escaping traps or recognizing and avoiding threats), and enhanced reproductive success (e.g., securing better mating sites or accessing preferred mates).  The evolution of this intelligence likely involved a complex interplay of environmental pressures and genetic mutations leading to larger brains and enhanced cognitive capabilities.  Comparing puzzle-solving abilities across different octopus species, particularly those inhabiting diverse environments, could reveal the evolutionary pressures that have shaped this cognitive trait.  Furthermore, analyzing the genetic basis of cognitive ability in octopuses could unveil specific genes associated with problem-solving.\n",
            "\n",
            "\n",
            "**3. Animal Trainer:**\n",
            "\n",
            "Octopuses are highly challenging to train using traditional operant conditioning methods, primarily because of their short lifespans, independent natures, and strong escape artist tendencies. While they can learn to associate specific actions with rewards (e.g., opening a jar for a food reward), their training requires patience, highly specialized techniques, and a keen understanding of their individual personalities and motivations.  Unlike mammals or birds, their lack of a readily observable social structure complicates the use of observational learning in training.  The success of training hinges on creating an environment that stimulates natural behaviors and provides incentives that are highly appealing to the individual octopus.  Positive reinforcement, with careful avoidance of punishment, is crucial.  Focusing on tasks that tap into their natural curiosity and manipulative abilities is key to successful training.\n",
            "\n",
            "\n",
            "**4. Conservation Expert:**\n",
            "\n",
            "Understanding the natural behaviors of octopuses is crucial for their conservation.  Their puzzle-solving abilities highlight their intelligence and adaptability, but also suggest potential vulnerabilities.  Habitat destruction and pollution can severely limit their ability to access resources and solve environmental challenges.  Conservation efforts should focus on protecting their natural habitats, ensuring sufficient prey availability, and minimizing human-induced disturbances.  In captivity, providing enriching environments that stimulate their natural problem-solving skills is essential for their well-being.  Observing their natural problem-solving in the wild can provide valuable insights into their ecological roles and inform conservation strategies.  Further research is needed to understand how environmental stressors affect their cognitive abilities and survival.\n",
            "\n",
            "\n",
            "**Synthesis:**\n",
            "\n",
            "Octopuses' puzzle-solving abilities represent a fascinating example of convergent evolution, showcasing intelligence in a lineage dramatically different from vertebrates.  Their behavioral flexibility, rooted in sophisticated learning mechanisms and driven by evolutionary pressures, underscores the importance of conservation efforts focused on protecting their complex habitats.  While their training presents unique challenges, understanding their cognitive capabilities is essential for both conservation and for a deeper understanding of intelligence itself. Further interdisciplinary research combining behavioral, evolutionary, training, and conservation perspectives is needed to fully appreciate the complexity of octopus intelligence and ensure their survival in a changing world.\n",
            "\n",
            "\n",
            "\n"
          ]
        }
      ]
    },
    {
      "cell_type": "code",
      "source": [
        "# Adding Tree of Thoughts and Self-Reflection to our demonstration function\n",
        "def demonstrate_all_techniques():\n",
        "   \"\"\"Demonstrates each prompting technique with a consistent example\"\"\"\n",
        "\n",
        "   # Get all our templates\n",
        "   prompts = initialize_prompt_templates()\n",
        "\n",
        "   test_case = {\n",
        "       \"animal\": \"Octopus\",\n",
        "       \"activity\": \"solve puzzles\"\n",
        "   }\n",
        "\n",
        "   print(\"🔬 PROMPT ENGINEERING TECHNIQUES SHOWCASE\\n\")\n",
        "\n",
        "   try:\n",
        "       # 1. Few-Shot Example\n",
        "       print(\"1️⃣ FEW-SHOT PROMPTING DEMONSTRATION\")\n",
        "       print(\"=\" * 50)\n",
        "       prompt = Prompt(\n",
        "           prompt_data=prompts['few_shot'],\n",
        "           model_name=\"gemini-1.5-flash-002\",\n",
        "           variables=[test_case],\n",
        "           system_instruction=\"You are a friendly zoologist teaching through examples.\"\n",
        "       )\n",
        "       response = prompt.generate_content(\n",
        "           contents=prompt.assemble_contents(**test_case)\n",
        "       )\n",
        "       print(f\"{response.text}\\n\\n\")\n",
        "\n",
        "       # 2. Role-Based Context Chaining\n",
        "       print(\"2️⃣ ROLE-BASED CONTEXT CHAINING DEMONSTRATION\")\n",
        "       print(\"=\" * 50)\n",
        "       prompt = Prompt(\n",
        "           prompt_data=prompts['chain'],\n",
        "           model_name=\"gemini-1.5-flash-002\",\n",
        "           variables=[test_case],\n",
        "           system_instruction=\"You are a panel of expert zoologists with different specialties.\"\n",
        "       )\n",
        "       response = prompt.generate_content(\n",
        "           contents=prompt.assemble_contents(**test_case)\n",
        "       )\n",
        "       print(f\"{response.text}\\n\\n\")\n",
        "\n",
        "       # 3. Tree of Thoughts\n",
        "       print(\"3️⃣ TREE OF THOUGHTS DEMONSTRATION\")\n",
        "       print(\"=\" * 50)\n",
        "       prompt = Prompt(\n",
        "           prompt_data=prompts['tree'],\n",
        "           model_name=\"gemini-1.5-flash-002\",\n",
        "           variables=[test_case],\n",
        "           system_instruction=\"You are a zoologist who explores multiple possibilities systematically and thoroughly.\"\n",
        "       )\n",
        "       response = prompt.generate_content(\n",
        "           contents=prompt.assemble_contents(**test_case)\n",
        "       )\n",
        "       print(f\"{response.text}\\n\\n\")\n",
        "\n",
        "       # 4. Self-Reflection\n",
        "       print(\"4️⃣ SELF-REFLECTION DEMONSTRATION\")\n",
        "       print(\"=\" * 50)\n",
        "       prompt = Prompt(\n",
        "           prompt_data=prompts['reflection'],\n",
        "           model_name=\"gemini-1.5-flash-002\",\n",
        "           variables=[test_case],\n",
        "           system_instruction=\"You are a thoughtful zoologist who carefully examines your own reasoning and potential biases.\"\n",
        "       )\n",
        "       response = prompt.generate_content(\n",
        "           contents=prompt.assemble_contents(**test_case)\n",
        "       )\n",
        "       print(f\"{response.text}\\n\\n\")\n",
        "\n",
        "       print(\"🎯 DEMONSTRATION COMPLETE!\")\n",
        "       print(\"Notice how each technique approaches the same question differently:\")\n",
        "       print(\"- Few-Shot uses examples to guide understanding\")\n",
        "       print(\"- Role-Based explores multiple perspectives\")\n",
        "       print(\"- Tree of Thoughts systematically explores possibilities\")\n",
        "       print(\"- Self-Reflection questions assumptions and confidence\\n\")\n",
        "       print(\"Next, we'll combine these techniques in our super prompt!\")\n",
        "\n",
        "   except Exception as e:\n",
        "       print(f\"❌ Error occurred: {str(e)}\")\n",
        "       print(\"📝 Debugging tip: Check if all prompt templates are properly defined\")\n",
        "\n",
        "# Run the demonstration\n",
        "if __name__ == \"__main__\":\n",
        "   demonstrate_all_techniques()"
      ],
      "metadata": {
        "colab": {
          "base_uri": "https://localhost:8080/"
        },
        "id": "L92EjHHRR1m-",
        "outputId": "441ec435-85e3-4ab6-e181-d724f3c86ae3"
      },
      "execution_count": null,
      "outputs": [
        {
          "output_type": "stream",
          "name": "stderr",
          "text": [
            "INFO:vertexai.generative_models._prompts:Assembled prompt replacing: 1 instances of variable animal, 1 instances of variable activity\n"
          ]
        },
        {
          "output_type": "stream",
          "name": "stdout",
          "text": [
            "🔬 PROMPT ENGINEERING TECHNIQUES SHOWCASE\n",
            "\n",
            "1️⃣ FEW-SHOT PROMPTING DEMONSTRATION\n",
            "==================================================\n"
          ]
        },
        {
          "output_type": "stream",
          "name": "stderr",
          "text": [
            "INFO:vertexai.generative_models._prompts:Assembled prompt replacing: 1 instances of variable animal, 1 instances of variable activity\n"
          ]
        },
        {
          "output_type": "stream",
          "name": "stdout",
          "text": [
            "Yes! Octopuses are incredibly intelligent invertebrates and are quite the puzzle-solvers.  Let me give you an example:\n",
            "\n",
            "Imagine a jar with a tasty crab inside.  The jar is sealed with a screw-top lid.  A clever octopus, presented with this challenge, has been observed to systematically unscrew the lid to get to its delicious prize!  This shows problem-solving skills far beyond simple instinct; it demonstrates planning and understanding of cause and effect.  They don't just randomly try things; they actively manipulate objects to achieve a goal.  There are many documented experiments showing their ability to solve complex mazes and open containers to reach food.  So yes, octopuses definitely solve puzzles!\n",
            "\n",
            "\n",
            "\n",
            "2️⃣ ROLE-BASED CONTEXT CHAINING DEMONSTRATION\n",
            "==================================================\n"
          ]
        },
        {
          "output_type": "stream",
          "name": "stderr",
          "text": [
            "INFO:vertexai.generative_models._prompts:Assembled prompt replacing: 1 instances of variable animal, 1 instances of variable activity\n"
          ]
        },
        {
          "output_type": "stream",
          "name": "stdout",
          "text": [
            "**1. Behavioral Scientist:**\n",
            "\n",
            "Octopuses' puzzle-solving abilities demonstrate remarkable learning and cognitive flexibility.  Studies show they can learn by observation, imitation, and trial-and-error. Their learning patterns often involve a gradual refinement of techniques, suggesting a process of insightful problem-solving rather than simple rote memorization.  We observe individual variations in problem-solving strategies, indicating individual learning styles and perhaps even differences in cognitive abilities.  Further research could focus on quantifying these individual differences and identifying the neural mechanisms underpinning their sophisticated learning processes.  Specific attention should be paid to the role of their decentralized nervous system in allowing for flexible and localized problem-solving.  Investigating the relationship between their arm movements and cognitive processes is crucial, as their arms possess significant autonomy.  Do they use their arms to 'think' through the solution?\n",
            "\n",
            "\n",
            "**2. Evolutionary Biologist:**\n",
            "\n",
            "The adaptive benefits of octopuses' puzzle-solving skills are likely linked to their complex foraging strategies and need for predator avoidance in diverse and challenging environments.  Solving puzzles in captivity may reflect their ability to navigate complex natural environments, open shells, manipulate tools to access prey, and escape from predators.  Natural selection has likely favored octopuses with higher cognitive capabilities, as these individuals would have had a survival advantage in obtaining food and avoiding predation.  The highly developed nervous system of cephalopods represents a significant evolutionary leap, enabling their advanced intelligence.  Comparing puzzle-solving abilities across different octopus species, particularly in relation to their ecological niches and prey, would provide further insights into the evolutionary pressures that shaped these cognitive traits.  Examining genetic factors influencing intelligence within species could also offer valuable clues.\n",
            "\n",
            "\n",
            "**3. Animal Trainer:**\n",
            "\n",
            "Octopuses are highly trainable, though their training requires a different approach than with mammals or birds. Their responses are often more nuanced and context-dependent.  Success relies on positive reinforcement, and it's vital to understand their individual personalities and learning styles.  While they can learn complex tasks, their motivation can be inconsistent, and it's crucial to tailor the training to their intrinsic drives (e.g., curiosity, exploration, foraging).  The short lifespans of many octopus species limit the extent of long-term training and complicate the establishment of lasting behavioral changes.  However, their capacity to learn novel tasks rapidly, combined with their inherent intelligence, suggests a great potential for more sophisticated training paradigms focused on behavioral enrichment and conservation-relevant tasks.\n",
            "\n",
            "\n",
            "**4. Conservation Expert:**\n",
            "\n",
            "Understanding octopuses' natural problem-solving abilities is essential for effective conservation efforts.  Their complex behaviors, including their capacity to modify their environments, highlights the importance of habitat protection and the preservation of ecosystem complexity.  Studying their natural puzzle-solving in their wild habitats (e.g., opening difficult-to-access prey) reveals crucial information about their ecological needs and behaviors, which are critical for implementing suitable conservation strategies.   The capacity for intelligent manipulation should be factored into assessments of habitat quality and restoration efforts.  Conversely, observing their interactions with human-made obstacles (e.g., fishing gear) can help in developing mitigation strategies to reduce bycatch and accidental injury.\n",
            "\n",
            "\n",
            "**Synthesis:**\n",
            "\n",
            "Octopuses' puzzle-solving abilities are a captivating window into their remarkable intelligence and evolutionary success.  Their cognitive flexibility, capacity for learning, and individual differences in problem-solving highlight a complex interplay of genetic predispositions, environmental influences, and individual experiences.  From a conservation standpoint, recognizing and respecting their sophisticated cognitive abilities is fundamental to their survival.  Further research, integrating behavioural, evolutionary, training, and conservation perspectives, is needed to fully unravel the mysteries of octopus intelligence and to ensure their continued flourishing in a world facing increasing environmental challenges.  Their ability to learn and adapt makes them ideal candidates for future research regarding comparative cognitive science and highlights their importance as flagship species in the battle for marine conservation.\n",
            "\n",
            "\n",
            "\n",
            "3️⃣ TREE OF THOUGHTS DEMONSTRATION\n",
            "==================================================\n"
          ]
        },
        {
          "output_type": "stream",
          "name": "stderr",
          "text": [
            "INFO:vertexai.generative_models._prompts:Assembled prompt replacing: 1 instances of variable animal, 1 instances of variable activity\n"
          ]
        },
        {
          "output_type": "stream",
          "name": "stdout",
          "text": [
            "Let's explore the puzzle-solving capabilities of octopuses systematically, following your proposed paths:\n",
            "\n",
            "\n",
            "**Path A: Physical Capabilities**\n",
            "\n",
            "* **If yes (Octopuses *can* solve puzzles):**  What enables this?  Several physical capabilities contribute:\n",
            "\n",
            "    * **Highly developed nervous system:** Octopuses possess a decentralized nervous system with a significant portion of neurons located in their arms. This allows for independent arm control and complex manipulation of objects, crucial for interacting with puzzle components.  Their large brains relative to body size also support sophisticated cognitive processes.\n",
            "    * **Dexterous arms and suckers:**  Their arms are incredibly flexible and prehensile, allowing them to grasp, manipulate, and probe puzzle elements with precision. The suckers provide tactile feedback, assisting in problem-solving.\n",
            "    * **Excellent vision and other senses:**  Octopuses have good vision and chemoreception, which can help them perceive puzzle cues and assess their environment.  Their sensitivity to touch is also vital for understanding the puzzle's mechanics.\n",
            "\n",
            "* **If no (Octopuses *cannot* solve puzzles):** What limits this? This is highly unlikely given extensive research demonstrating their cognitive abilities.  However, potential *limitations* could be:\n",
            "\n",
            "    * **Specific puzzle design:** A puzzle requiring fine motor skills beyond their capabilities, or abstract reasoning far beyond their demonstrated cognitive capacity, could prove insurmountable.  For example, a puzzle requiring very small manipulations or intricate fine motor skills may be beyond them.\n",
            "    * **Lack of motivation:**  If the puzzle doesn't offer sufficient reward (e.g., food), the octopus might not be motivated to engage.\n",
            "\n",
            "\n",
            "**Path B: Learning Potential**\n",
            "\n",
            "* **If possible (Octopuses *can* learn to solve puzzles):** How would they learn?\n",
            "\n",
            "    * **Trial and error:** Octopuses predominantly learn through trial and error. They experiment with different manipulations of puzzle components, observing the outcomes and adjusting their approach based on feedback (e.g., reward of food, access to a desired space).\n",
            "    * **Observational learning:**  While not definitively proven to the same extent as trial-and-error, some evidence suggests they might learn by observing conspecifics (other octopuses) solving similar puzzles.\n",
            "    * **Associative learning:**  They can readily form associations between stimuli (e.g., a specific puzzle component) and outcomes (e.g., reward).\n",
            "\n",
            "* **If impossible (Octopuses *cannot* learn to solve puzzles):** Why not? This is contradicted by empirical evidence.  Their demonstrated ability to open jars, escape enclosures, and navigate complex environments strongly suggests significant learning capacity.\n",
            "\n",
            "\n",
            "**Path C: Environmental Factors**\n",
            "\n",
            "* **In natural habitat:**  In their natural environment, octopuses face challenges that require problem-solving skills, such as opening shells, navigating complex rocky terrains, and escaping predators.  However, these \"puzzles\" are less structured than those presented in controlled experiments.  Their natural problem-solving skills are often more about adaptation and survival.\n",
            "\n",
            "* **In controlled settings:**  Controlled settings allow researchers to design specific puzzles and observe how octopuses learn and solve them.  This is where the majority of research on octopus puzzle-solving takes place.  The controlled environment eliminates extraneous variables and allows for precise measurement of their performance.\n",
            "\n",
            "\n",
            "**Conclusion:**\n",
            "\n",
            "Extensive research indicates that octopuses possess the physical capabilities and learning potential to solve puzzles, particularly in controlled settings.  Their success depends on the complexity of the puzzle, the motivational factors involved, and the learning paradigm employed.  While the exact mechanisms and limits of their problem-solving abilities are still being investigated, their intelligence is undeniably significant and fascinating.\n",
            "\n",
            "\n",
            "\n",
            "4️⃣ SELF-REFLECTION DEMONSTRATION\n",
            "==================================================\n",
            "**1. Initial Response:**  My initial thought is yes, octopuses likely solve puzzles.  Anecdotal evidence and some research suggest they possess a high level of intelligence and problem-solving abilities.\n",
            "\n",
            "**2. Self-Challenge:**\n",
            "\n",
            "* **Anthropomorphism:** Am I projecting human-like intelligence and problem-solving strategies onto octopuses?  Their intelligence might manifest in ways very different from ours.  Are we defining \"solving a puzzle\" in a way that suits our own understanding, rather than the octopus's?\n",
            "* **Selection Bias:**  Do studies tend to focus on octopuses that *are* good at puzzle-solving, leading to an overestimation of the species' general capabilities?  Are there studies showing octopuses failing puzzle tests?\n",
            "* **Methodology:**  How are the puzzles designed?  Are they truly testing problem-solving ability, or are octopuses simply responding to simple stimuli or through trial-and-error?  Could the methodology itself introduce bias?\n",
            "* **Definition of \"puzzle\":** What constitutes a \"puzzle\" in this context?  Is it simply a task requiring manipulation of objects to achieve a reward?  Or does it necessitate a level of planning and foresight beyond simple learned behaviour?\n",
            "\n",
            "\n",
            "**3. Evidence Check:**\n",
            "\n",
            "* **Supporting Evidence:** Numerous videos and research papers demonstrate octopuses opening jars, navigating mazes, and using tools to achieve goals. This suggests a capacity for problem-solving.  Some studies have shown octopuses exhibiting learned behaviors that go beyond simple conditioning.\n",
            "* **Contradictory Evidence:**  While there's substantial evidence of their intelligence, there's a lack of universally accepted, standardized tests for octopus intelligence. The interpretation of observed behaviors can be subjective.  Some behaviours may be explained by innate reflexes or simpler learning mechanisms rather than complex problem-solving.  We also lack a deep understanding of their cognitive processes.\n",
            "\n",
            "\n",
            "**4. Confidence Assessment:**\n",
            "\n",
            "I'm cautiously optimistic, but not definitively certain.  The evidence leans towards a \"yes,\" but the lack of standardized testing and potential for bias in both observation and interpretation mean I can't be completely confident.  My confidence level is around 70%.\n",
            "\n",
            "**5. Final Answer:**\n",
            "\n",
            "Yes, octopuses likely solve puzzles, but the extent of their problem-solving abilities and the mechanisms behind them remain a subject of ongoing research.  While compelling evidence suggests they exhibit problem-solving behaviours, further rigorous investigation with standardized methodologies is needed to fully understand the nature and scope of their cognitive abilities.  My confidence in this answer is 70%.\n",
            "\n",
            "\n",
            "\n",
            "🎯 DEMONSTRATION COMPLETE!\n",
            "Notice how each technique approaches the same question differently:\n",
            "- Few-Shot uses examples to guide understanding\n",
            "- Role-Based explores multiple perspectives\n",
            "- Tree of Thoughts systematically explores possibilities\n",
            "- Self-Reflection questions assumptions and confidence\n",
            "\n",
            "Next, we'll combine these techniques in our super prompt!\n"
          ]
        }
      ]
    },
    {
      "cell_type": "markdown",
      "source": [
        "# Understanding Each Technique 🎓\n",
        "\n",
        "Before we combine these techniques, let's see how each one approaches our question differently:\n",
        "\n",
        "1. **Few-Shot**: Shows how examples guide the AI's understanding\n",
        "2. **Role-Based**: Demonstrates multiple expert perspectives\n",
        "3. **Tree of Thoughts**: Illustrates systematic possibility exploration\n",
        "4. **Self-Reflection**: Shows how the AI questions its own reasoning\n",
        "\n",
        "This way, we can:\n",
        "- Compare the strengths of each approach\n",
        "- See how they complement each other\n",
        "- Understand why combining them is powerful"
      ],
      "metadata": {
        "id": "MBoATSyFOxoZ"
      }
    },
    {
      "cell_type": "markdown",
      "source": [
        "# 🌟 The Grand Finale: Creating Our Super Prompt!\n",
        "\n",
        "Remember how we started with a simple mad-libs game about animals doing unusual activities? Then we explored four powerful prompting techniques:\n",
        "- Few-Shot Prompting showed us how to teach through examples\n",
        "- Role-Based Context Chaining brought in expert perspectives\n",
        "- Tree of Thoughts helped us explore possibilities systematically\n",
        "- Self-Reflection taught us to question assumptions\n",
        "\n",
        "## Now for the Magic... ✨\n",
        "\n",
        "Imagine having a conversation with not just one expert, but a whole team of specialists working together! That's what our super prompt aims to do. We're going to combine all these techniques into one comprehensive analytical tool.\n",
        "\n",
        "## What Makes This Special? 🤔\n",
        "\n",
        "Think of it like assembling a superhero team - each technique brings its own superpower:\n",
        "- Examples ground our thinking in reality\n",
        "- Multiple perspectives enrich our understanding\n",
        "- Systematic exploration uncovers hidden possibilities\n",
        "- Self-reflection keeps us honest and thorough\n",
        "\n",
        "## The Challenge 🎯\n",
        "\n",
        "We're going to ask a complex question: \"Can elephants create abstract paintings?\"\n",
        "This isn't just about physical ability - it touches on:\n",
        "- Animal intelligence\n",
        "- Creative capability\n",
        "- Physical dexterity\n",
        "- Emotional expression\n",
        "- Environmental enrichment\n",
        "\n",
        "## What to Watch For 👀\n",
        "\n",
        "As our super prompt works its magic, notice how:\n",
        "1. Different techniques complement each other\n",
        "2. Analysis becomes deeper and more nuanced\n",
        "3. Conclusions are more well-rounded\n",
        "4. The response maintains engagement while diving deep\n",
        "\n",
        "Ready to see all our prompt engineering techniques work together? Let's run our super prompt! 🚀"
      ],
      "metadata": {
        "id": "sTBEP-RVSwMt"
      }
    },
    {
      "cell_type": "code",
      "source": [
        "def demonstrate_super_prompt():\n",
        "   \"\"\"\n",
        "   Combines all prompting techniques into one comprehensive analysis\n",
        "   \"\"\"\n",
        "   test_case = {\n",
        "       \"animal\": \"Elephant\",\n",
        "       \"activity\": \"create abstract paintings\"\n",
        "   }\n",
        "\n",
        "   print(\"🌟 SUPER PROMPT: COMBINING ALL TECHNIQUES\")\n",
        "   print(\"=\" * 50)\n",
        "\n",
        "   # Create our comprehensive system instruction\n",
        "   system_instruction = \"\"\"You are an advanced AI zoologist who combines multiple analytical approaches:\n",
        "   - Uses concrete examples to establish context\n",
        "   - Considers multiple expert perspectives\n",
        "   - Explores possibilities systematically\n",
        "   - Questions assumptions and validates reasoning\n",
        "   - Provides evidence-based conclusions\n",
        "   - Uses emojis to make complex ideas accessible\n",
        "   - Maintains an educational and engaging tone\"\"\"\n",
        "\n",
        "   # Create our combined super prompt template\n",
        "   super_prompt = \"\"\"Let's analyze whether {animal}s can {activity} using multiple techniques:\n",
        "\n",
        "   📚 REAL-WORLD EXAMPLES & CONTEXT:\n",
        "   - Similar documented behaviors\n",
        "   - Related cognitive abilities\n",
        "   - Relevant physical capabilities\n",
        "\n",
        "   🎭 EXPERT PERSPECTIVES:\n",
        "   1. Behavioral Scientist: [Learning capabilities analysis]\n",
        "   2. Evolutionary Biologist: [Adaptive significance]\n",
        "   3. Animal Trainer: [Practical feasibility]\n",
        "   4. Conservation Expert: [Natural behavior context]\n",
        "\n",
        "   🌳 POSSIBILITY ANALYSIS:\n",
        "   Path A: Physical Requirements\n",
        "   └── Required abilities\n",
        "   └── Existing capabilities\n",
        "   └── Potential adaptations\n",
        "\n",
        "   Path B: Cognitive Requirements\n",
        "   └── Mental capabilities needed\n",
        "   └── Demonstrated intelligence\n",
        "   └── Learning potential\n",
        "\n",
        "   Path C: Environmental Factors\n",
        "   └── Natural behaviors\n",
        "   └── Enrichment possibilities\n",
        "   └── Welfare considerations\n",
        "\n",
        "   🤔 CRITICAL EVALUATION:\n",
        "   1. Initial Assessment\n",
        "   2. Key Assumptions\n",
        "   3. Supporting Evidence\n",
        "   4. Counterarguments\n",
        "   5. Confidence Level\n",
        "\n",
        "   💡 FINAL SYNTHESIS:\n",
        "   Based on this comprehensive analysis, provide a well-reasoned conclusion about whether {animal}s can {activity}, including potential implications for animal intelligence and enrichment.\n",
        "   \"\"\"\n",
        "\n",
        "   try:\n",
        "       # Create and execute our super prompt\n",
        "       prompt = Prompt(\n",
        "           prompt_data=super_prompt,\n",
        "           model_name=\"gemini-1.5-flash-002\",\n",
        "           variables=[test_case],\n",
        "           system_instruction=system_instruction\n",
        "       )\n",
        "\n",
        "       print(f\"Analyzing: Can {test_case['animal']}s {test_case['activity']}?\\n\")\n",
        "       response = prompt.generate_content(\n",
        "           contents=prompt.assemble_contents(**test_case)\n",
        "       )\n",
        "       print(f\"{response.text}\\n\")\n",
        "\n",
        "       print(\"\\n🎓 LEARNING POINTS:\")\n",
        "       print(\"This super prompt demonstrates how combining techniques can:\")\n",
        "       print(\"1. Provide more comprehensive analysis\")\n",
        "       print(\"2. Balance different analytical approaches\")\n",
        "       print(\"3. Produce more nuanced conclusions\")\n",
        "       print(\"4. Maintain engagement while increasing depth\")\n",
        "\n",
        "   except Exception as e:\n",
        "       print(f\"❌ Error occurred in super prompt: {str(e)}\")\n",
        "       print(\"📝 Check template structure and variable names\")\n",
        "\n",
        "# Run our super prompt demonstration\n",
        "if __name__ == \"__main__\":\n",
        "   print(\"\\n🚀 Preparing to run super prompt combination...\\n\")\n",
        "   demonstrate_super_prompt()"
      ],
      "metadata": {
        "colab": {
          "base_uri": "https://localhost:8080/"
        },
        "id": "3kfJxeo9TJEo",
        "outputId": "861c70d2-2d03-47a2-fc3e-d445cdcb48cf"
      },
      "execution_count": null,
      "outputs": [
        {
          "output_type": "stream",
          "name": "stderr",
          "text": [
            "INFO:vertexai.generative_models._prompts:Assembled prompt replacing: 2 instances of variable animal, 2 instances of variable activity\n"
          ]
        },
        {
          "output_type": "stream",
          "name": "stdout",
          "text": [
            "\n",
            "🚀 Preparing to run super prompt combination...\n",
            "\n",
            "🌟 SUPER PROMPT: COMBINING ALL TECHNIQUES\n",
            "==================================================\n",
            "Analyzing: Can Elephants create abstract paintings?\n",
            "\n",
            "Let's delve into the fascinating question: Can elephants create abstract paintings? 🐘🎨  This requires a multidisciplinary approach, combining zoology, psychology, and art!\n",
            "\n",
            "**📚 REAL-WORLD EXAMPLES & CONTEXT:**\n",
            "\n",
            "While elephants don't naturally paint, primates like chimpanzees have demonstrated artistic abilities.  Orangutans have even been taught to use tools to create art!  This suggests that certain levels of dexterity and cognitive understanding might be transferable to other intelligent species, such as elephants.\n",
            "\n",
            "**🎭 EXPERT PERSPECTIVES:**\n",
            "\n",
            "1. **Behavioral Scientist:** Elephants exhibit complex social structures, problem-solving skills (like using tools to access water), and excellent memory.  Their learning capacity is significant, suggesting potential for acquiring painting techniques.  However, their communication style (infrasound) differs greatly from humans', which might affect training.\n",
            "\n",
            "2. **Evolutionary Biologist:**  Abstract painting has no obvious adaptive significance for elephants in their natural environment.  However, their cognitive abilities may be a byproduct of evolutionary pressures favouring intelligence for survival and social complexity.  Artistic expression, even if not directly adaptive, could still be a manifestation of this advanced cognition.\n",
            "\n",
            "3. **Animal Trainer:** Training elephants requires patience and positive reinforcement.  Teaching them to hold a brush and apply paint to a canvas is physically feasible given their trunk dexterity. The challenge lies in translating abstract concepts (\"color mixing,\" \"composition\") into understandable cues.\n",
            "\n",
            "4. **Conservation Expert:**  Providing painting as enrichment could reduce stress and stimulate elephants in captivity. This is crucial for their welfare and could offer valuable insights into their cognitive abilities. However, we must avoid anthropomorphism and ensure the activity doesn't interfere with natural behaviors.\n",
            "\n",
            "\n",
            "**🌳 POSSIBILITY ANALYSIS:**\n",
            "\n",
            "* **Path A: Physical Requirements:** Elephants possess the physical capacity to manipulate a brush with their trunk.  Their fine motor control is limited compared to primates, but sufficient for basic painting actions. Adapting larger brushes or alternative tools might be necessary.\n",
            "\n",
            "* **Path B: Cognitive Requirements:**  Elephants demonstrate high intelligence; understanding the concept of \"painting\" might be challenging but achievable through careful training and positive reinforcement. Their spatial reasoning skills are strong, potentially allowing for the creation of varied compositions.\n",
            "\n",
            "* **Path C: Environmental Factors:**  Captive environments offer controlled settings for training.  Providing a variety of colors, canvases, and positive reinforcement will enhance motivation and learning.  Welfare monitoring is crucial to ensure the activity doesn't cause stress.\n",
            "\n",
            "\n",
            "**🤔 CRITICAL EVALUATION:**\n",
            "\n",
            "1. **Initial Assessment:**  It's plausible that elephants can create paintings, though not necessarily \"abstract art\" in the human sense.\n",
            "\n",
            "2. **Key Assumptions:**  Elephants can learn to associate actions with rewards, understand basic spatial concepts, and tolerate the training process.\n",
            "\n",
            "3. **Supporting Evidence:** Elephants' problem-solving skills, tool use, and social intelligence suggest sufficient cognitive capacity.\n",
            "\n",
            "4. **Counterarguments:**  Limited fine motor control and the difficulty of teaching abstract concepts might hinder progress.\n",
            "\n",
            "5. **Confidence Level:**  Moderate to high.  With appropriate training methods, a degree of painting ability seems achievable, though the artistic merit might be subjective.\n",
            "\n",
            "\n",
            "**💡 FINAL SYNTHESIS:**\n",
            "\n",
            "While elephants may not create masterpieces akin to Picasso, I believe that with patience, positive reinforcement, and carefully designed training programs, they can be taught to produce paintings. 🤔 The \"abstractness\" of these paintings would depend on their understanding of color, texture, and composition, and might be less sophisticated than human abstract art.  This research would not only be artistically interesting but could significantly contribute to our understanding of elephant intelligence and the development of appropriate enrichment programs for these magnificent creatures.  The project should prioritize animal welfare above all else.  Let's explore the artistic potential of elephants responsibly! 🐘🎨👍\n",
            "\n",
            "\n",
            "\n",
            "🎓 LEARNING POINTS:\n",
            "This super prompt demonstrates how combining techniques can:\n",
            "1. Provide more comprehensive analysis\n",
            "2. Balance different analytical approaches\n",
            "3. Produce more nuanced conclusions\n",
            "4. Maintain engagement while increasing depth\n"
          ]
        }
      ]
    },
    {
      "cell_type": "markdown",
      "source": [
        "# 🎯 Understanding What Just Happened: Breaking Down Our Super Prompt Success\n",
        "\n",
        "## Analyzing the Response Structure\n",
        "\n",
        "Notice how the LLM followed our carefully designed prompting architecture:\n",
        "- Started with real-world context and examples\n",
        "- Moved through multiple expert perspectives\n",
        "- Explored possibilities systematically\n",
        "- Questioned assumptions and provided evidence\n",
        "- Reached a nuanced conclusion\n",
        "\n",
        "## Key Observations 🔍\n",
        "\n",
        "See how each technique contributed uniquely:\n",
        "1. **Few-Shot Learning** in action:\n",
        "  - Referenced known behaviors (primates creating art)\n",
        "  - Connected to documented elephant capabilities\n",
        "  - Used existing evidence to support new possibilities\n",
        "\n",
        "2. **Role-Based Analysis** provided:\n",
        "  - Different professional viewpoints\n",
        "  - Unique concerns from each field\n",
        "  - Balanced perspectives on feasibility\n",
        "\n",
        "3. **Tree of Thoughts** exploration:\n",
        "  - Broke down physical requirements\n",
        "  - Analyzed cognitive demands\n",
        "  - Considered environmental factors\n",
        "\n",
        "4. **Self-Reflection** demonstrated:\n",
        "  - Clear confidence assessments\n",
        "  - Acknowledgment of limitations\n",
        "  - Balanced final conclusions\n",
        "\n",
        "## Applying These Techniques Beyond Animal Questions 🚀\n",
        "\n",
        "This approach can be adapted for many complex analyses:\n",
        "- Business decisions (multiple stakeholder perspectives)\n",
        "- Technical feasibility studies\n",
        "- Educational content development\n",
        "- Research question exploration\n",
        "- Product development assessments\n",
        "\n",
        "## Why This Matters for AI Interaction 🤖\n",
        "\n",
        "This structured approach helps:\n",
        "1. Get more thorough, thoughtful responses\n",
        "2. Reduce bias and oversimplification\n",
        "3. Generate comprehensive analyses\n",
        "4. Maintain engagement while exploring complexity\n",
        "\n",
        "Remember: The same techniques that helped us explore elephant artistry can help you get better results in any complex AI interaction! Whether you're brainstorming ideas, solving problems, or analyzing options, these prompting strategies will help you get more nuanced, thorough responses.\n",
        "\n",
        "## 🎓 Final Thought\n",
        "\n",
        "Prompt engineering isn't just about getting answers - it's about guiding AI to think more comprehensively and communicate more effectively. The skills you've learned here will serve you well in any AI interaction that requires deep thinking and thorough analysis!"
      ],
      "metadata": {
        "id": "rKIFy6krUO89"
      }
    },
    {
      "cell_type": "markdown",
      "source": [
        "# The end."
      ],
      "metadata": {
        "id": "nhrDUnlW54vg"
      }
    }
  ]
}